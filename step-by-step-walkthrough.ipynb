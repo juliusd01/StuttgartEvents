{
 "cells": [
  {
   "cell_type": "markdown",
   "metadata": {},
   "source": [
    "## Imports for Data Extraction and Preprocessing"
   ]
  },
  {
   "cell_type": "code",
   "execution_count": 1,
   "metadata": {},
   "outputs": [],
   "source": [
    "import pandas as pd\n",
    "import matplotlib.pyplot as plt\n",
    "import ijson\n",
    "import logging\n",
    "import numpy as np\n",
    "import seaborn as sns"
   ]
  },
  {
   "cell_type": "code",
   "execution_count": 2,
   "metadata": {},
   "outputs": [],
   "source": [
    "# Set up logging\n",
    "logging.basicConfig(level=logging.INFO)\n",
    "logger = logging.getLogger(__name__)"
   ]
  },
  {
   "cell_type": "markdown",
   "metadata": {},
   "source": [
    "## Parse Data and create DataFrame"
   ]
  },
  {
   "cell_type": "code",
   "execution_count": 3,
   "metadata": {},
   "outputs": [
    {
     "name": "stderr",
     "output_type": "stream",
     "text": [
      "INFO:__main__:All events parsed. Total number of events: 264395\n"
     ]
    }
   ],
   "source": [
    "def parse_json(file_path, num_events):\n",
    "    \"\"\"\n",
    "    parses the json file and returns a list of events\n",
    "\n",
    "    :param file_path: path to the json file\n",
    "    :param num_events: number of events that should be parsed\n",
    "    \"\"\"\n",
    "    with open(file_path, 'rb') as f:\n",
    "        events = ijson.items(f, 'item')\n",
    "        limited_events = [next(events) for _ in range(num_events)]\n",
    "        logger.info('All events parsed. Total number of events: {}'.format(len(limited_events)))\n",
    "        return limited_events\n",
    "\n",
    "# specify the number of events that should be preprocessed, max number of events is 264395\n",
    "num_events = 264395\n",
    "events = parse_json('stuttgart_events.json', num_events)\n",
    "\n",
    "# Handle the nested structure of the original json file\n",
    "events_df = pd.DataFrame(events)\n",
    "all_keys = set().union(*events_df[\"eventData\"].apply(lambda x: x.keys()))\n",
    "for key in all_keys:\n",
    "    events_df[key] = events_df[\"eventData\"].apply(lambda x: x.get(key, None))\n",
    "\n",
    "keys_location = set().union(*events_df[\"location\"].apply(lambda x: x.keys()))\n",
    "for key in keys_location:\n",
    "    events_df[f'location.{key}'] = events_df[\"location\"].apply(lambda x: x.get(key, None))\n",
    "\n",
    "keys_location_location = set().union(*events_df[\"location.location\"].apply(lambda x: x.keys()))\n",
    "for key in keys_location_location:\n",
    "    events_df[f'location.location.{key}'] = events_df[\"location.location\"].apply(lambda x: x.get(key, None))\n",
    "\n",
    "keys_location_location_address = set().union(*events_df[\"location.location.address\"].apply(lambda x: x.keys()))\n",
    "for key in keys_location_location_address:\n",
    "    events_df[f'location.location.address.{key}'] = events_df[\"location.location.address\"].apply(lambda x: x.get(key, None))"
   ]
  },
  {
   "cell_type": "markdown",
   "metadata": {},
   "source": [
    "## Data Cleaning"
   ]
  },
  {
   "cell_type": "code",
   "execution_count": 4,
   "metadata": {},
   "outputs": [],
   "source": [
    "# delete dictionary columns\n",
    "events_df = events_df.drop('eventData', axis=1)\n",
    "events_df = events_df.drop('location', axis=1)\n",
    "events_df = events_df.drop('location.location', axis=1)\n",
    "events_df = events_df.drop('location.location.address', axis=1)"
   ]
  },
  {
   "cell_type": "code",
   "execution_count": 5,
   "metadata": {},
   "outputs": [
    {
     "name": "stdout",
     "output_type": "stream",
     "text": [
      "(261664, 60)\n"
     ]
    }
   ],
   "source": [
    "# Only keep events that were not cancelled\n",
    "events_df = events_df[events_df['cancelled'] == False]\n",
    "print(events_df.shape)"
   ]
  },
  {
   "cell_type": "code",
   "execution_count": 6,
   "metadata": {},
   "outputs": [
    {
     "name": "stdout",
     "output_type": "stream",
     "text": [
      "(261664, 60)\n"
     ]
    }
   ],
   "source": [
    "# Only keep events where the location is actually in Stuttgart\n",
    "events_df = events_df[events_df['location.location.address.city'] == 'Stuttgart']\n",
    "print(events_df.shape)"
   ]
  },
  {
   "cell_type": "markdown",
   "metadata": {},
   "source": [
    "## Visualize missing values"
   ]
  },
  {
   "cell_type": "code",
   "execution_count": 7,
   "metadata": {},
   "outputs": [
    {
     "ename": "",
     "evalue": "",
     "output_type": "error",
     "traceback": [
      "\u001b[1;31mThe Kernel crashed while executing code in the current cell or a previous cell. \n",
      "\u001b[1;31mPlease review the code in the cell(s) to identify a possible cause of the failure. \n",
      "\u001b[1;31mClick <a href='https://aka.ms/vscodeJupyterKernelCrash'>here</a> for more info. \n",
      "\u001b[1;31mView Jupyter <a href='command:jupyter.viewOutput'>log</a> for further details."
     ]
    }
   ],
   "source": [
    "#Create a heatmap of missing values\n",
    "plt.figure(figsize=(25, 6))  # Adjust the figure size as needed\n",
    "sns.heatmap(events_df.isnull(), cmap='viridis', cbar=False)\n",
    "plt.title('Missing Values Heatmap')\n",
    "plt.show()"
   ]
  },
  {
   "cell_type": "code",
   "execution_count": 1,
   "metadata": {},
   "outputs": [
    {
     "ename": "NameError",
     "evalue": "name 'events_df' is not defined",
     "output_type": "error",
     "traceback": [
      "\u001b[0;31m---------------------------------------------------------------------------\u001b[0m",
      "\u001b[0;31mNameError\u001b[0m                                 Traceback (most recent call last)",
      "Cell \u001b[0;32mIn[1], line 2\u001b[0m\n\u001b[1;32m      1\u001b[0m \u001b[38;5;66;03m# drop columns with more than 80% missing values\u001b[39;00m\n\u001b[0;32m----> 2\u001b[0m events_df \u001b[38;5;241m=\u001b[39m \u001b[43mevents_df\u001b[49m\u001b[38;5;241m.\u001b[39mdropna(thresh\u001b[38;5;241m=\u001b[39mevents_df\u001b[38;5;241m.\u001b[39mshape[\u001b[38;5;241m0\u001b[39m]\u001b[38;5;241m*\u001b[39m\u001b[38;5;241m0.2\u001b[39m, axis\u001b[38;5;241m=\u001b[39m\u001b[38;5;241m1\u001b[39m)\n\u001b[1;32m      3\u001b[0m logging\u001b[38;5;241m.\u001b[39minfo(\u001b[38;5;124m'\u001b[39m\u001b[38;5;124mShape of the DataFrame after dropping columns with more than 80\u001b[39m\u001b[38;5;124m%\u001b[39m\u001b[38;5;124m missing values: \u001b[39m\u001b[38;5;132;01m{}\u001b[39;00m\u001b[38;5;124m'\u001b[39m\u001b[38;5;241m.\u001b[39mformat(events_df\u001b[38;5;241m.\u001b[39mshape))\n\u001b[1;32m      4\u001b[0m \u001b[38;5;66;03m# again plot missing values after cleaning\u001b[39;00m\n",
      "\u001b[0;31mNameError\u001b[0m: name 'events_df' is not defined"
     ]
    }
   ],
   "source": [
    "# drop columns with more than 80% missing values\n",
    "events_df = events_df.dropna(thresh=events_df.shape[0]*0.2, axis=1)\n",
    "logging.info('Shape of the DataFrame after dropping columns with more than 80% missing values: {}'.format(events_df.shape))\n",
    "# again plot missing values after cleaning\n",
    "plt.figure(figsize=(15, 6))  # Adjust the figure size as needed\n",
    "sns.heatmap(events_df.isnull(), cmap='viridis', cbar=False)\n",
    "plt.title('Missing Values Heatmap')\n",
    "plt.show()"
   ]
  },
  {
   "cell_type": "markdown",
   "metadata": {},
   "source": [
    "## Feature Engineering"
   ]
  },
  {
   "cell_type": "markdown",
   "metadata": {},
   "source": [
    "### Create Feature \"dayofweek\" and only consider Wednesdays"
   ]
  },
  {
   "cell_type": "code",
   "execution_count": null,
   "metadata": {},
   "outputs": [
    {
     "name": "stderr",
     "output_type": "stream",
     "text": [
      "INFO:root:Number of events after filtering for Wednesdays: 29549\n"
     ]
    }
   ],
   "source": [
    "if 'startDate' in events_df.columns and events_df['startDate'].dtype != 'datetime64[ns]':\n",
    "    events_df['startDate'] = pd.to_datetime(events_df['startDate'], format='mixed', utc=True)\n",
    "\n",
    "# add column for day of week\n",
    "events_df['dayofweek'] = events_df['startDate'].dt.dayofweek\n",
    "# only consider events on Wednesdays\n",
    "events_df = events_df[events_df['dayofweek'] == 2]\n",
    "events_df.reset_index(drop=True, inplace=True)\n",
    "# log the number of events remaining\n",
    "logging.info('Number of events after filtering for Wednesdays: {}'.format(events_df.shape[0]))"
   ]
  },
  {
   "cell_type": "markdown",
   "metadata": {},
   "source": [
    "### Continue with a sample of the data\n",
    "### NOTE: When the whole dataset of Wednesdays should be used then comment out the following 3 lines"
   ]
  },
  {
   "cell_type": "code",
   "execution_count": null,
   "metadata": {},
   "outputs": [],
   "source": [
    "# sample the data to reduce the number of events, e.g. only select 2000 events\n",
    "events_df = events_df.sample(n=2000, random_state=42)\n",
    "events_df.reset_index(drop=True, inplace=True)\n",
    "logging.info('Number of events after sampling: {}'.format(events_df.shape[0]))"
   ]
  },
  {
   "cell_type": "markdown",
   "metadata": {},
   "source": [
    "## Derive further time features from the startDate column"
   ]
  },
  {
   "cell_type": "code",
   "execution_count": null,
   "metadata": {},
   "outputs": [],
   "source": [
    "# Create year column\n",
    "events_df['year'] = events_df['startDate'].dt.year\n",
    "# Create month column\n",
    "events_df['month'] = events_df['startDate'].dt.month\n",
    "# Create column with startHour\n",
    "events_df['starting_hour'] = events_df['startDate'].apply(lambda x: x.hour)"
   ]
  },
  {
   "cell_type": "markdown",
   "metadata": {},
   "source": [
    "## Extract the season from startDate"
   ]
  },
  {
   "cell_type": "code",
   "execution_count": null,
   "metadata": {},
   "outputs": [],
   "source": [
    "# create a function to determine the season\n",
    "def get_season(date: pd.Timestamp) -> str:\n",
    "    \"\"\"\n",
    "    Returns the season of an event based on the startDate.\n",
    "    \n",
    "    :param date: date for which the season should be determined\n",
    "    :return: season of the given date\n",
    "    \"\"\"\n",
    "    # spring\n",
    "    if date.month >= 3 and date.month <= 5:\n",
    "        return 'spring'\n",
    "    # summer\n",
    "    elif date.month >= 6 and date.month <= 8:\n",
    "        return 'summer'\n",
    "    # autumn\n",
    "    elif date.month >= 9 and date.month <= 11:\n",
    "        return 'autumn'\n",
    "    # winter\n",
    "    else:\n",
    "        return 'winter'\n",
    "\n",
    "# apply the function to the startDate column\n",
    "events_df['season'] = events_df['startDate'].apply(get_season)"
   ]
  },
  {
   "cell_type": "markdown",
   "metadata": {},
   "source": [
    "## Derive time_of_day from starting_hour. That's a second derivate feature 😄"
   ]
  },
  {
   "cell_type": "code",
   "execution_count": null,
   "metadata": {},
   "outputs": [
    {
     "data": {
      "image/png": "[encoded data removed]",
      "text/plain": [
       "<Figure size 640x480 with 1 Axes>"
      ]
     },
     "metadata": {},
     "output_type": "display_data"
    }
   ],
   "source": [
    "# create a column that classifies the events into morning, afternoon and evening\n",
    "def get_time_of_day(time: int) -> str:\n",
    "    \"\"\"\n",
    "    returns the time of day of a given start time\n",
    "    :param time: time for which the time of day should be determined\n",
    "    :return: time of day of the given time\n",
    "    \"\"\"\n",
    "    # morning\n",
    "    if time >= 6 and time < 12:\n",
    "        return 'morning'\n",
    "    # afternoon\n",
    "    elif time >= 12 and time < 18:\n",
    "        return 'afternoon'\n",
    "    # evening\n",
    "    elif time >= 18 and time < 24:\n",
    "        return 'evening'\n",
    "    # night\n",
    "    else:\n",
    "        return 'night'\n",
    "    \n",
    "# apply the function to the starting_hour column\n",
    "events_df['time_of_day'] = events_df['starting_hour'].apply(get_time_of_day)\n",
    "# plot time_of_day\n",
    "events_df['time_of_day'].hist(bins=4)\n",
    "plt.show()"
   ]
  },
  {
   "cell_type": "markdown",
   "metadata": {},
   "source": [
    "## Map zip codes to district names"
   ]
  },
  {
   "cell_type": "code",
   "execution_count": null,
   "metadata": {},
   "outputs": [],
   "source": [
    "# instead of having to choose location based on postcal code, it would be way nicer to choose location based on district\n",
    "# therefore we need to add a column containing the district of the event\n",
    "# we can get the district by using a mapping from postcal code to district\n",
    "# https://home.meinestadt.de/stuttgart/postleitzahlen\n",
    "\n",
    "zip_code_to_district = {\n",
    "    \"70173\": \"Europaviertel\",\n",
    "    \"70174\": \"Relenberg\",\n",
    "    \"70178\": \"Karlshöhe\",\n",
    "    \"70191\": \"Am Rosensteinpark\",\n",
    "    \"70193\": \"Kräherwald\",\n",
    "    \"70195\": \"Botnang-West\",\n",
    "    \"70197\": \"Vogelsang\",\n",
    "    \"70199\": \"Südheim\",\n",
    "    \"70372\": \"Bad Cannstatt\",\n",
    "    \"70567\": \"Sternhäule\",\n",
    "    \"70569\": \"Pfaffenwald\",\n",
    "    \"70437\": \"Freiberg\",\n",
    "    \"70176\": \"Rosenberg\",\n",
    "    \"70188\": \"Uhlandshöhe\",\n",
    "    \"70374\": \"Im Geiger\",\n",
    "    \"70439\": \"Zuffenhausen-Elbelen\",\n",
    "    \"70190\": \"Stöckach\",\n",
    "    \"70180\": \"Weinsteige\",\n",
    "    \"70182\": \"Heusteigviertel\",\n",
    "    \"70376\": \"Neckarvorstadt\",\n",
    "    \"70378\": \"Mönchfeld\",\n",
    "    \"70597\": \"Waldau\",\n",
    "    \"70565\": \"Möhringen-Süd\",\n",
    "    \"70469\": \"Feuerbach-Ost\",\n",
    "    \"70199\": \"Südheim\"\n",
    "}\n",
    "\n",
    "\n",
    "def get_district_from_postcal_code(postcalCode: int):\n",
    "    \"\"\"\n",
    "    returns the district of a given postal code\n",
    "    :param postcalCode: postal code for which the district should be determined\n",
    "    :return: district of the given postal code\n",
    "    \"\"\"\n",
    "    try:\n",
    "        district = zip_code_to_district[str(postcalCode)]\n",
    "    except KeyError:\n",
    "        district = \"Other\"\n",
    "    return district\n",
    "    \n",
    "# apply the function to the postal code column\n",
    "events_df['district'] = events_df['location.location.address.postalCode'].apply(get_district_from_postcal_code)"
   ]
  },
  {
   "cell_type": "markdown",
   "metadata": {},
   "source": [
    "## Create features supercategory and subcategory"
   ]
  },
  {
   "cell_type": "code",
   "execution_count": null,
   "metadata": {},
   "outputs": [],
   "source": [
    "# split entry in eventData.location.category by / \n",
    "def extract_categories(df: pd.DataFrame):\n",
    "    \"\"\"\n",
    "    Extracts the supercategory and subcategory from the eventData.location.category column\n",
    "    :param df: dataframe containing the events\n",
    "    :return: dataframe containing the events with two new columns supercategory and subcategory\n",
    "    \"\"\"\n",
    "    events_df['supercategory'] = np.where(events_df['location.category'].notnull(), events_df['location.category'].str.split('/').str[0], 'anderes')\n",
    "    events_df['subcategory'] = np.where(events_df['location.category'].notnull(), events_df['location.category'].str.split('/').str[1], 'anderes')\n",
    "    # everything to lowercase\n",
    "    events_df['supercategory'] = events_df['supercategory'].str.lower()\n",
    "    events_df['subcategory'] = events_df['subcategory'].str.lower()\n",
    "    # if subcategory has no value, set it to \"No Subcategory\"\n",
    "    events_df['subcategory'] = np.where(events_df['subcategory'].isnull(), 'no subcategory', events_df['subcategory'])\n",
    "    return events_df\n",
    "\n",
    "events_df = extract_categories(events_df)"
   ]
  },
  {
   "cell_type": "markdown",
   "metadata": {},
   "source": [
    "## Save dataframe"
   ]
  },
  {
   "cell_type": "code",
   "execution_count": 15,
   "metadata": {},
   "outputs": [
    {
     "name": "stderr",
     "output_type": "stream",
     "text": [
      "INFO:__main__:DataFrame saved to csv file.\n"
     ]
    }
   ],
   "source": [
    "events_df.to_csv('all_events.csv', index=False)\n",
    "logger.info('DataFrame saved to csv file.')"
   ]
  },
  {
   "cell_type": "markdown",
   "metadata": {},
   "source": [
    "# Adding a Flair to each event"
   ]
  },
  {
   "cell_type": "markdown",
   "metadata": {},
   "source": [
    "## Imports for flair ingestion"
   ]
  },
  {
   "cell_type": "code",
   "execution_count": 4,
   "metadata": {},
   "outputs": [],
   "source": [
    "from sklearn.feature_extraction.text import CountVectorizer\n",
    "from sklearn.decomposition import LatentDirichletAllocation\n",
    "from nltk.corpus import stopwords\n",
    "from nltk.tokenize import word_tokenize\n",
    "import nltk\n",
    "import pyLDAvis\n",
    "import pyLDAvis.lda_model\n",
    "import pandas as pd"
   ]
  },
  {
   "cell_type": "markdown",
   "metadata": {},
   "source": [
    "## Define Stopwords"
   ]
  },
  {
   "cell_type": "code",
   "execution_count": 5,
   "metadata": {},
   "outputs": [
    {
     "name": "stderr",
     "output_type": "stream",
     "text": [
      "[nltk_data] Downloading package stopwords to\n",
      "[nltk_data]     /home/juliusdoebelt/nltk_data...\n",
      "[nltk_data]   Package stopwords is already up-to-date!\n",
      "[nltk_data] Downloading package punkt to\n",
      "[nltk_data]     /home/juliusdoebelt/nltk_data...\n",
      "[nltk_data]   Package punkt is already up-to-date!\n"
     ]
    }
   ],
   "source": [
    "\n",
    "# Download German language resources for NLTK\n",
    "nltk.download('stopwords')\n",
    "nltk.download('punkt')\n",
    "\n",
    "# Read DataFrame with event descriptions\n",
    "df = pd.read_csv('all_events.csv')  # Replace 'your_dataframe.csv' with your actual file path or URL\n",
    "\n",
    "# Get German stop words from NLTK\n",
    "german_stop_words = set(stopwords.words('german'))\n",
    "english_stop_words = set(stopwords.words('english'))\n",
    "self_defined_stop_words = ['stuttgart', 'de', 'www', 'uhr', '00', '30', '01', '02', '03', '04', '05', '06', '07', '08', '09', '10', '11', '12', '13', '14', '15', '16', '17', '18' '19', '20', '21', '22', '23', '00', '1', 'http', 'com', 'br', 'https', '2020', '2021', '2022', '2023']\n",
    "# Note: One could have excluded more number. However, some numbers start with 0 in the beginning and then running a loop of numbers to exclude might have been useless.\n",
    "combined_stop_words = german_stop_words.union(english_stop_words).union(self_defined_stop_words)"
   ]
  },
  {
   "cell_type": "markdown",
   "metadata": {},
   "source": [
    "## Convert the event descriptions to a matrix of token counts "
   ]
  },
  {
   "cell_type": "code",
   "execution_count": 6,
   "metadata": {},
   "outputs": [],
   "source": [
    "# Convert event descriptions to document-term matrix\n",
    "vectorizer = CountVectorizer(stop_words=list(combined_stop_words), max_features=1000, max_df=0.85)\n",
    "\n",
    "event_descriptions = []\n",
    "for index, row in df.iterrows():\n",
    "    event_description = row['description']\n",
    "    if isinstance(event_description, str):\n",
    "        event_descriptions.append(event_description)\n",
    "    else:\n",
    "        event_descriptions.append('Anderes')\n",
    "\n",
    "X = vectorizer.fit_transform(event_descriptions)"
   ]
  },
  {
   "cell_type": "markdown",
   "metadata": {},
   "source": [
    "## Apply Latent Dirichlet Allocation (LDA)"
   ]
  },
  {
   "cell_type": "code",
   "execution_count": 7,
   "metadata": {},
   "outputs": [
    {
     "name": "stdout",
     "output_type": "stream",
     "text": [
      "[[0.03368315 0.86526212 0.03365513 0.03373448 0.03366512]\n",
      " [0.02532662 0.29030218 0.02514304 0.63398829 0.02523987]\n",
      " [0.2        0.2        0.2        0.2        0.2       ]\n",
      " ...\n",
      " [0.01074215 0.01067948 0.49563257 0.01081202 0.47213378]\n",
      " [0.01935737 0.60332685 0.00132896 0.37465924 0.00132758]\n",
      " [0.0666667  0.06693163 0.73259094 0.06670034 0.06711039]]\n"
     ]
    }
   ],
   "source": [
    "num_topics = 5  # Adjust based on the desired number of categories\n",
    "lda = LatentDirichletAllocation(n_components=num_topics, random_state=42)\n",
    "document_topics = lda.fit_transform(X)\n",
    "print(document_topics)\n",
    "\n",
    "# Get the most probable topic for each document (event)\n",
    "predicted_labels = document_topics.argmax(axis=1)"
   ]
  },
  {
   "cell_type": "markdown",
   "metadata": {},
   "source": [
    "## Visualize the topics"
   ]
  },
  {
   "cell_type": "code",
   "execution_count": 8,
   "metadata": {},
   "outputs": [
    {
     "data": {
      "text/html": [
       "\n",
       "<link rel=\"stylesheet\" type=\"text/css\" href=\"https://cdn.jsdelivr.net/gh/bmabey/pyLDAvis@3.4.0/pyLDAvis/js/ldavis.v1.0.0.css\">\n",
       "\n",
       "\n",
       "<div id=\"ldavis_el136351405414755611847821909932\" style=\"background-color:white;\"></div>\n",
       "<script type=\"text/javascript\">\n",
       "\n",
       "var ldavis_el136351405414755611847821909932_data = {\"mdsDat\": {\"x\": [-5.410001277923584, 103.91001892089844, 46.84475326538086, -113.03556823730469, -107.11820983886719], \"y\": [-75.67093658447266, 41.23649978637695, 184.8314208984375, 196.7120361328125, 41.41910934448242], \"topics\": [1, 2, 3, 4, 5], \"cluster\": [1, 1, 1, 1, 1], \"Freq\": [27.14231615025121, 25.661849605033765, 19.631481893903803, 16.28013924251757, 11.284213108293656]}, \"tinfo\": {\"Term\": [\"dj\", \"kurs\", \"yoga\", \"band\", \"ab\", \"club\", \"mittwoch\", \"live\", \"album\", \"anmeldung\", \"musik\", \"party\", \"songs\", \"facebook\", \"jazz\", \"w\\u00fcrttemberg\", \"baden\", \"tour\", \"18\", \"ausstellung\", \"veranstaltung\", \"rock\", \"leben\", \"k\\u00f6rper\", \"stadtpalais\", \"kannst\", \"lernen\", \"informationen\", \"musiker\", \"pop\", \"w\\u00fcrttemberg\", \"benz\", \"mercedes\", \"prof\", \"seminar\", \"austausch\", \"fees\", \"informieren\", \"stammtisch\", \"entrance\", \"interessierten\", \"referent\", \"marketing\", \"messe\", \"kunden\", \"baden\", \"startup\", \"hohenheim\", \"halle\", \"design\", \"melden\", \"unternehmen\", \"veranstaltungen\", \"diskutieren\", \"teilnehmerzahl\", \"einladung\", \"media\", \"informationen\", \"uni\", \"einf\\u00fchrung\", \"business\", \"veranstaltung\", \"thema\", \"social\", \"dr\", \"themen\", \"vortrag\", \"artists\", \"eur\", \"bitte\", \"anmeldung\", \"herzlich\", \"findet\", \"freuen\", \"statt\", \"fragen\", \"weitere\", \"m\\u00f6chten\", \"ort\", \"19\", \"2019\", \"sowie\", \"infos\", \"18\", \"mail\", \"unserer\", \"mittwoch\", \"mehr\", \"rahmen\", \"ab\", \"hiv\", \"aids\", \"lesung\", \"roman\", \"bingo\", \"begleitung\", \"mutter\", \"slam\", \"regie\", \"buch\", \"kino\", \"m\\u00e4nner\", \"autor\", \"erz\\u00e4hlt\", \"tod\", \"schnelltest\", \"familie\", \"hilfe\", \"frau\", \"theater\", \"spiel\", \"geschichten\", \"film\", \"eigentlich\", \"geld\", \"aktion\", \"genug\", \"comedy\", \"lebt\", \"w\\u00e4re\", \"leben\", \"kinder\", \"reise\", \"frauen\", \"geschichte\", \"welt\", \"menschen\", \"zeit\", \"immer\", \"macht\", \"viele\", \"liebe\", \"schon\", \"wer\", \"gibt\", \"eintritt\", \"kommt\", \"mehr\", \"ganz\", \"geht\", \"jahre\", \"mal\", \"wurde\", \"dabei\", \"jahren\", \"zwei\", \"19\", \"frei\", \"b\\u00fchne\", \"mittwoch\", \"ab\", \"neue\", \"band\", \"album\", \"jazz\", \"rock\", \"gitarre\", \"drums\", \"folk\", \"trio\", \"song\", \"musiker\", \"uso\", \"konzerte\", \"blues\", \"songwriter\", \"schlagzeug\", \"klavier\", \"piano\", \"singer\", \"york\", \"s\\u00e4nger\", \"single\", \"youtu\", \"punk\", \"alben\", \"s\\u00e4ngerin\", \"musical\", \"bass\", \"songs\", \"konzert\", \"bands\", \"pop\", \"shows\", \"watch\", \"besetzung\", \"live\", \"tour\", \"new\", \"one\", \"youtube\", \"musik\", \"stimme\", \"festival\", \"sound\", \"fans\", \"music\", \"berlin\", \"seit\", \"deutschland\", \"show\", \"jahren\", \"wurde\", \"jahre\", \"bereits\", \"mehr\", \"neuen\", \"ganz\", \"mal\", \"neue\", \"dj\", \"party\", \"floor\", \"drinks\", \"artnight\", \"kizomba\", \"kunstwerk\", \"aimm\", \"lunchpaket\", \"cocktails\", \"perkins\", \"div\", \"disko\", \"jahrgangschampagner\", \"ping\", \"pong\", \"specials\", \"date\", \"class\", \"pm\", \"club\", \"location\", \"ladies\", \"park\", \"gratis\", \"salsa\", \"men\\u00fc\", \"hip\", \"happy\", \"hop\", \"house\", \"bar\", \"getr\\u00e4nke\", \"facebook\", \"feiern\", \"ab\", \"mittwoch\", \"special\", \"wednesday\", \"essen\", \"50\", \"einlass\", \"tickets\", \"woche\", \"k\\u00f6nnt\", \"event\", \"gibt\", \"eintritt\", \"einfach\", \"18\", \"geht\", \"heute\", \"abend\", \"mal\", \"19\", \"freuen\", \"nat\\u00fcrlich\", \"kurs\", \"yoga\", \"k\\u00f6rper\", \"stadtpalais\", \"zouk\", \"asanas\", \"meditation\", \"stress\", \"atem\", \"sp\\u00fcren\", \"entspannung\", \"\\u00fcbungen\", \"inneren\", \"l\\u00f6sen\", \"bewegungen\", \"lerne\", \"ruhe\", \"geburt\", \"bewegung\", \"sa\", \"geist\", \"terminen\", \"verbindung\", \"stunde\", \"bewegen\", \"methoden\", \"jederzeit\", \"training\", \"willst\", \"ost\", \"kannst\", \"anf\\u00e4nger\", \"schritt\", \"lernen\", \"hast\", \"ausstellung\", \"termine\", \"lernst\", \"18\", \"kennen\", \"museum\", \"anmeldung\", \"m\\u00f6glich\", \"ab\", \"45\", \"minuten\", \"dabei\", \"sowie\", \"mi\", \"19\", \"kosten\", \"euro\", \"stuttgarter\", \"mehr\"], \"Freq\": [2723.0, 1947.0, 1839.0, 2455.0, 5475.0, 1785.0, 5244.0, 2857.0, 1639.0, 3719.0, 3489.0, 1316.0, 1435.0, 2232.0, 1299.0, 1579.0, 1568.0, 1765.0, 3829.0, 1584.0, 2263.0, 1103.0, 2319.0, 787.0, 774.0, 1017.0, 1079.0, 1412.0, 922.0, 908.0, 1578.1526161953877, 721.1041075828106, 717.1787361462814, 698.5448110556887, 688.5992430987785, 526.8516480594218, 434.7033006410661, 418.02962990075923, 419.0079969049291, 475.69775176518385, 335.61441152818503, 304.2510063024002, 301.30811282253495, 291.50062028652445, 291.48755795115886, 1563.9169096188036, 271.8859420842543, 367.98249177763597, 392.09992579141874, 501.9471880728548, 327.3623343653292, 774.2130586027047, 664.021433615701, 416.3868415220659, 353.8807451642774, 307.79782550025897, 684.1768272450317, 1334.5552129495995, 343.6030793170797, 325.6793079697941, 404.99382750745997, 2045.7599248226168, 1210.9649330936932, 833.3597063780577, 1477.5500783364853, 933.3112150390239, 1024.939556178976, 730.9534562624522, 1093.6586650349634, 1445.5612842647622, 2397.8044612057056, 867.9926783691271, 1485.7935982802521, 2017.0647302226712, 1376.70087872998, 1391.0907874883383, 1306.7607354922648, 700.7505412640598, 947.6396870069273, 2085.436791793659, 1107.2614223497455, 1366.2347406500176, 1083.906740064475, 1356.1623227893708, 855.7860673595655, 997.4123258908253, 1218.2021564337795, 1118.5037808400855, 809.2392991284584, 879.2781292338072, 699.8141055974185, 492.8576392565483, 436.31818340786515, 359.5742981421968, 310.1195541816218, 319.1799818173909, 267.5132071808147, 330.57200283239854, 391.2047526026536, 445.79103397893147, 373.2603399037465, 294.6618282905228, 281.0871975146232, 540.7367735654353, 243.82020505417555, 295.7252885593817, 568.1108069348135, 685.522322644892, 674.8857860805125, 620.8644889590358, 497.52361271552354, 567.9985686233209, 1122.1827638501181, 397.5883361169562, 304.71827841193146, 245.9513171499152, 227.9508140819789, 515.8544749864333, 331.7983997364383, 285.53489355498095, 1865.658633069436, 888.8521119686012, 552.0839139627574, 696.3920372609945, 934.3473747984953, 1456.0352149579596, 1292.5659688249102, 1464.8877783604312, 1872.8144979080998, 874.1830052390737, 975.6335489568958, 852.933611553083, 1300.6250300183638, 967.836645927879, 1699.6305718771926, 1389.7715598399611, 1003.2429782214883, 1582.0986304704807, 1083.4839660381715, 1219.0636850608798, 921.337235767411, 1146.9756008847307, 901.7436586832627, 1190.9358938261516, 1086.3885402098151, 871.7657425490406, 1240.8062411088288, 911.4412514376185, 744.476631067183, 943.4915940144076, 933.0774723519263, 827.8571062562679, 2454.8026358287734, 1638.2608612877373, 1298.770378287522, 1102.7538791398622, 666.271370032641, 494.0886576233003, 481.22338054759155, 450.53706849083045, 443.60966226728846, 920.7891345335091, 426.78550063531924, 420.84516958707115, 417.87826339458206, 399.0720693746415, 388.1849503173239, 378.2860316390758, 389.0976666178217, 349.57981682994694, 334.720438666682, 320.8783291562677, 320.87586850181157, 312.9592792360467, 314.9200420291413, 294.15736157835227, 273.33762156536613, 254.4696236911119, 811.6012440803402, 1429.8905839376202, 849.740525779115, 443.23584231884763, 902.8545736772073, 374.107301920228, 556.1665116801747, 356.58813876862433, 2354.1979618815267, 1484.9109827744355, 985.1270083700894, 569.2296123168143, 698.092248479622, 2446.1035821176406, 580.3794162955903, 602.240074581505, 811.3187705545205, 495.2371624221466, 793.5549235846411, 658.4068606139122, 966.9032795559741, 855.2355748929914, 637.8753867502081, 855.8971674308276, 718.7019151521309, 673.9316556430811, 619.685043609348, 805.0427514851332, 675.003507753466, 652.7609327092684, 639.1654832288802, 612.4699816650019, 2722.209119821742, 1315.4932060482186, 571.0853644930562, 635.6242091195087, 502.3921383121662, 347.78292736148103, 307.36638121850723, 309.2950120896867, 272.00992276677295, 535.5230944964883, 302.2831168348208, 337.179770734662, 305.0134006520468, 291.8322590745822, 471.6390472817991, 596.6477747001817, 322.1696518993831, 257.8772607344536, 467.19253977783046, 359.77620458139467, 1711.0010074583693, 531.2826318565147, 274.8693806530874, 405.89295374233234, 377.80296436780714, 713.5415557529356, 300.1913135593253, 518.5770850869231, 258.50850325020656, 536.6250364221041, 421.74838440298873, 755.8207932840083, 679.6543331039699, 1622.8612404610121, 648.2252470274794, 2812.081273584853, 2632.1769729397147, 604.8402475812168, 493.7218318766682, 586.2453408086196, 887.4264026578785, 714.8208291853643, 889.8793689398826, 564.4204784338699, 678.4377331681507, 710.9502842030042, 1365.6550929444281, 1159.6937472280697, 849.14245377952, 1012.583546633907, 926.0274242208891, 790.01718317584, 818.6018784996648, 813.4508540956317, 833.7229063145454, 712.8621684463956, 627.3115951882379, 1947.1847855210513, 1838.570353210019, 786.9079144284013, 773.7145008626871, 411.32119863014566, 408.2779838927461, 397.0586886116329, 378.745158971878, 293.5682633910276, 280.3655017609431, 277.3275660851564, 448.3511128917099, 267.1252510336478, 262.05480105453097, 299.3481555438479, 340.52672605170994, 313.7438435184134, 266.9881376476365, 655.2059984270129, 300.59118684344895, 262.82125869208613, 344.3956893002244, 273.8701371196235, 439.30801336864357, 336.2133228618779, 341.201139440797, 217.72825811467433, 458.869712289055, 219.55105530423634, 250.88486714836512, 805.4811982472662, 360.70918500720734, 361.6614818794067, 634.0912135552236, 518.7155252969835, 763.5142576129771, 562.6225074970286, 355.50075288488966, 997.3949005466294, 562.9110402095437, 502.8344881196874, 887.1904266697783, 507.1902048101215, 761.6202801788344, 424.38856106740616, 466.8868106006503, 604.6851435951907, 562.6337792253183, 437.4691206778606, 565.5278997157789, 396.1688264980253, 436.83612483272907, 423.5521402761789, 423.15730181414494], \"Total\": [2723.0, 1947.0, 1839.0, 2455.0, 5475.0, 1785.0, 5244.0, 2857.0, 1639.0, 3719.0, 3489.0, 1316.0, 1435.0, 2232.0, 1299.0, 1579.0, 1568.0, 1765.0, 3829.0, 1584.0, 2263.0, 1103.0, 2319.0, 787.0, 774.0, 1017.0, 1079.0, 1412.0, 922.0, 908.0, 1579.1713426883493, 721.9154063497914, 717.9921022443114, 699.3561916666504, 689.5526499429174, 527.7106821207053, 435.5113338725798, 418.83714265244316, 419.818044754779, 476.7124460761768, 336.44769876483167, 305.060264436048, 302.11776976186127, 292.3093736717748, 292.3097608207448, 1568.4228434240065, 272.6926283953129, 369.8257068861897, 395.326527632542, 506.16229152337235, 331.63517081972196, 785.9812761108385, 675.1362901847849, 433.10486154413684, 368.2480544409878, 323.8343416784692, 720.2721433988099, 1412.5538462693794, 364.49843120497684, 345.7954829136666, 430.9235481127912, 2263.0507450204595, 1414.135710473725, 946.1904051731349, 1791.4783043700872, 1077.3462697234347, 1199.624144723808, 821.8509932836972, 1381.348677966456, 1955.237137582532, 3719.7884112656716, 1097.2073678480863, 2250.4373256917797, 3389.0973715497867, 2122.278960331572, 2180.58838947716, 2061.8150935056674, 862.3578234161482, 1346.5348792250966, 5079.358598130397, 1858.8420925387757, 2717.5931070194315, 1983.0718911777828, 3829.4771853922184, 1256.9652130930226, 2024.3773380358869, 5244.712634141815, 4163.502928308137, 1227.8859298214063, 5475.119693913451, 700.6140638095662, 493.6578476818091, 437.1233567310698, 360.3977958115627, 310.9306921780898, 320.0164501406568, 272.572788842821, 337.01399652227366, 402.72745329650684, 459.2541229596867, 385.3294050199838, 311.95435366175656, 299.319001166504, 575.9230312488044, 263.11624121618763, 319.13101451349604, 615.5122578669341, 744.3455316979239, 741.1738019280276, 682.2417162111965, 560.1220303170859, 643.6788702156651, 1281.7362218607332, 458.96451219837775, 352.35603933053636, 284.6132810284456, 265.1400026187207, 601.2710887063596, 389.54534687125414, 335.4489745811652, 2319.82880593032, 1087.6880252589747, 668.5434485721902, 873.1502151487549, 1269.4628864414772, 2188.178512558818, 2024.783737304921, 2433.5807771329983, 3688.415181090562, 1392.029353673884, 1631.6627862268215, 1372.0032669305704, 2564.0052953240834, 1690.6013343175196, 4273.956589584981, 3212.781662110331, 1901.825655196525, 4163.502928308137, 2227.7466213996004, 3080.224420932832, 1799.333312889158, 2858.4866111969613, 1818.2095385931962, 3391.360885709018, 2769.100150359337, 1753.0510705050215, 5079.358598130397, 2164.3528507496317, 1237.051428478283, 5244.712634141815, 5475.119693913451, 2932.3042300529874, 2455.626121403896, 1639.0671985812385, 1299.5767803965916, 1103.6036000110746, 667.1160020819285, 494.89543927564824, 482.02840932104726, 451.34565675150714, 444.41726860429986, 922.4965955421801, 427.59118774910377, 421.6525846438434, 418.6832556777655, 399.87767996666173, 388.9902202595819, 379.09255974370217, 389.98194914414813, 350.3893586454919, 335.5430329808589, 321.6860383159775, 321.68607570012125, 313.7679074605518, 315.7478516695608, 294.9622613989482, 274.1778434902303, 255.37354597322323, 814.6360804133119, 1435.2685296816785, 853.2457179572746, 445.4355180263888, 908.72197110979, 376.14851827071885, 562.3087711676951, 361.37608645774986, 2857.4152705941256, 1765.8514093474505, 1143.443240073142, 620.6415620665459, 792.764419388156, 3489.4278726413036, 639.58496930472, 678.5316116161805, 1020.7721345144948, 544.3554144903286, 1118.1458579409407, 1026.0763217196252, 2221.2575499231775, 1795.2093018919327, 1050.4702358432107, 2769.100150359337, 1818.2095385931962, 1799.333312889158, 1327.3897550425033, 4163.502928308137, 1942.4078174969836, 2227.7466213996004, 2858.4866111969613, 2932.3042300529874, 2723.1333929982857, 1316.5924622204502, 571.9012648400574, 636.5694306556197, 503.1912016856863, 348.59350856664645, 308.1756407180415, 310.19653800853735, 272.81021254202284, 537.5451498984746, 304.126997082425, 339.46838102285716, 308.17362518297955, 295.03784236306984, 477.9252283641387, 607.2580546184648, 331.40815154331983, 265.7021176237915, 483.66540301540743, 372.59306127772703, 1785.9909969531625, 556.0224523004358, 289.97494551179346, 430.20323001830684, 402.0910550073523, 772.2351615382249, 325.3296471746078, 564.8881073877519, 282.43171919680515, 597.91969846107, 472.3539541599412, 910.1963470156653, 812.336264285859, 2232.873834270361, 824.1629919703452, 5475.119693913451, 5244.712634141815, 777.5599646563696, 593.0827464161572, 754.6373138524808, 1537.9447195226255, 1163.0622054497574, 1743.817765992159, 799.3678780059445, 1099.7735910435772, 1205.4069202917444, 4273.956589584981, 3212.781662110331, 2083.7314927365965, 3829.4771853922184, 3080.224420932832, 2126.0818890735554, 2579.7190839386662, 2858.4866111969613, 5079.358598130397, 3389.0973715497867, 1509.4963721346278, 1947.9861972629685, 1839.3692797423676, 787.7129902207794, 774.5165398552579, 412.1215575045372, 409.07623324877835, 397.90824596089936, 379.63739705364264, 294.36852060349486, 281.1719802396414, 278.12675020734076, 449.6628077862302, 267.97439949388746, 262.8986810189347, 300.44904200098523, 342.0742981909505, 315.67018261363074, 268.9840733709591, 676.504673685153, 316.3316988567525, 282.0022170509736, 375.53249885899044, 302.77614566997715, 490.89359448492905, 379.5597709720302, 402.88801920458525, 259.4737928031533, 547.7199640424355, 263.6703168757686, 306.2758884818501, 1017.2487372314554, 445.15863586710213, 462.7580538553399, 1079.6107112922807, 802.4888157997419, 1584.321883860166, 1049.7625820904198, 466.42866778809304, 3829.4771853922184, 1197.5185689580067, 947.8470228806859, 3719.7884112656716, 1144.3576960721605, 5475.119693913451, 852.642115134455, 1212.021023143137, 3391.360885709018, 2717.5931070194315, 1013.3221979697016, 5079.358598130397, 780.6386246562487, 1597.2458298210245, 2627.5048479771363, 4163.502928308137], \"Category\": [\"Default\", \"Default\", \"Default\", \"Default\", \"Default\", \"Default\", \"Default\", \"Default\", \"Default\", \"Default\", \"Default\", \"Default\", \"Default\", \"Default\", \"Default\", \"Default\", \"Default\", \"Default\", \"Default\", \"Default\", \"Default\", \"Default\", \"Default\", \"Default\", \"Default\", \"Default\", \"Default\", \"Default\", \"Default\", \"Default\", \"Topic1\", \"Topic1\", \"Topic1\", \"Topic1\", \"Topic1\", \"Topic1\", \"Topic1\", \"Topic1\", \"Topic1\", \"Topic1\", \"Topic1\", \"Topic1\", \"Topic1\", \"Topic1\", \"Topic1\", \"Topic1\", \"Topic1\", \"Topic1\", \"Topic1\", \"Topic1\", \"Topic1\", \"Topic1\", \"Topic1\", \"Topic1\", \"Topic1\", \"Topic1\", \"Topic1\", \"Topic1\", \"Topic1\", \"Topic1\", \"Topic1\", \"Topic1\", \"Topic1\", \"Topic1\", \"Topic1\", \"Topic1\", \"Topic1\", \"Topic1\", \"Topic1\", \"Topic1\", \"Topic1\", \"Topic1\", \"Topic1\", \"Topic1\", \"Topic1\", \"Topic1\", \"Topic1\", \"Topic1\", \"Topic1\", \"Topic1\", \"Topic1\", \"Topic1\", \"Topic1\", \"Topic1\", \"Topic1\", \"Topic1\", \"Topic1\", \"Topic1\", \"Topic1\", \"Topic1\", \"Topic2\", \"Topic2\", \"Topic2\", \"Topic2\", \"Topic2\", \"Topic2\", \"Topic2\", \"Topic2\", \"Topic2\", \"Topic2\", \"Topic2\", \"Topic2\", \"Topic2\", \"Topic2\", \"Topic2\", \"Topic2\", \"Topic2\", \"Topic2\", \"Topic2\", \"Topic2\", \"Topic2\", \"Topic2\", \"Topic2\", \"Topic2\", \"Topic2\", \"Topic2\", \"Topic2\", \"Topic2\", \"Topic2\", \"Topic2\", \"Topic2\", \"Topic2\", \"Topic2\", \"Topic2\", \"Topic2\", \"Topic2\", \"Topic2\", \"Topic2\", \"Topic2\", \"Topic2\", \"Topic2\", \"Topic2\", \"Topic2\", \"Topic2\", \"Topic2\", \"Topic2\", \"Topic2\", \"Topic2\", \"Topic2\", \"Topic2\", \"Topic2\", \"Topic2\", \"Topic2\", \"Topic2\", \"Topic2\", \"Topic2\", \"Topic2\", \"Topic2\", \"Topic2\", \"Topic2\", \"Topic2\", \"Topic2\", \"Topic3\", \"Topic3\", \"Topic3\", \"Topic3\", \"Topic3\", \"Topic3\", \"Topic3\", \"Topic3\", \"Topic3\", \"Topic3\", \"Topic3\", \"Topic3\", \"Topic3\", \"Topic3\", \"Topic3\", \"Topic3\", \"Topic3\", \"Topic3\", \"Topic3\", \"Topic3\", \"Topic3\", \"Topic3\", \"Topic3\", \"Topic3\", \"Topic3\", \"Topic3\", \"Topic3\", \"Topic3\", \"Topic3\", \"Topic3\", \"Topic3\", \"Topic3\", \"Topic3\", \"Topic3\", \"Topic3\", \"Topic3\", \"Topic3\", \"Topic3\", \"Topic3\", \"Topic3\", \"Topic3\", \"Topic3\", \"Topic3\", \"Topic3\", \"Topic3\", \"Topic3\", \"Topic3\", \"Topic3\", \"Topic3\", \"Topic3\", \"Topic3\", \"Topic3\", \"Topic3\", \"Topic3\", \"Topic3\", \"Topic3\", \"Topic3\", \"Topic3\", \"Topic4\", \"Topic4\", \"Topic4\", \"Topic4\", \"Topic4\", \"Topic4\", \"Topic4\", \"Topic4\", \"Topic4\", \"Topic4\", \"Topic4\", \"Topic4\", \"Topic4\", \"Topic4\", \"Topic4\", \"Topic4\", \"Topic4\", \"Topic4\", \"Topic4\", \"Topic4\", \"Topic4\", \"Topic4\", \"Topic4\", \"Topic4\", \"Topic4\", \"Topic4\", \"Topic4\", \"Topic4\", \"Topic4\", \"Topic4\", \"Topic4\", \"Topic4\", \"Topic4\", \"Topic4\", \"Topic4\", \"Topic4\", \"Topic4\", \"Topic4\", \"Topic4\", \"Topic4\", \"Topic4\", \"Topic4\", \"Topic4\", \"Topic4\", \"Topic4\", \"Topic4\", \"Topic4\", \"Topic4\", \"Topic4\", \"Topic4\", \"Topic4\", \"Topic4\", \"Topic4\", \"Topic4\", \"Topic4\", \"Topic4\", \"Topic4\", \"Topic5\", \"Topic5\", \"Topic5\", \"Topic5\", \"Topic5\", \"Topic5\", \"Topic5\", \"Topic5\", \"Topic5\", \"Topic5\", \"Topic5\", \"Topic5\", \"Topic5\", \"Topic5\", \"Topic5\", \"Topic5\", \"Topic5\", \"Topic5\", \"Topic5\", \"Topic5\", \"Topic5\", \"Topic5\", \"Topic5\", \"Topic5\", \"Topic5\", \"Topic5\", \"Topic5\", \"Topic5\", \"Topic5\", \"Topic5\", \"Topic5\", \"Topic5\", \"Topic5\", \"Topic5\", \"Topic5\", \"Topic5\", \"Topic5\", \"Topic5\", \"Topic5\", \"Topic5\", \"Topic5\", \"Topic5\", \"Topic5\", \"Topic5\", \"Topic5\", \"Topic5\", \"Topic5\", \"Topic5\", \"Topic5\", \"Topic5\", \"Topic5\", \"Topic5\", \"Topic5\", \"Topic5\"], \"logprob\": [30.0, 29.0, 28.0, 27.0, 26.0, 25.0, 24.0, 23.0, 22.0, 21.0, 20.0, 19.0, 18.0, 17.0, 16.0, 15.0, 14.0, 13.0, 12.0, 11.0, 10.0, 9.0, 8.0, 7.0, 6.0, 5.0, 4.0, 3.0, 2.0, 1.0, -4.7126, -5.4958, -5.5013, -5.5276, -5.5419, -5.8097, -6.0019, -6.041, -6.0387, -5.9118, -6.2606, -6.3587, -6.3685, -6.4016, -6.4016, -4.7216, -6.4712, -6.1686, -6.1051, -5.8581, -6.2855, -5.4247, -5.5783, -6.045, -6.2076, -6.3471, -5.5484, -4.8802, -6.2371, -6.2907, -6.0727, -4.4531, -4.9774, -5.3511, -4.7785, -5.2379, -5.1442, -5.4822, -5.0793, -4.8003, -4.2943, -5.3104, -4.7729, -4.4672, -4.8491, -4.8387, -4.9013, -5.5244, -5.2226, -4.4339, -5.0669, -4.8568, -5.0883, -4.8642, -5.3246, -5.1714, -4.9715, -5.0568, -5.3805, -5.2975, -5.4697, -5.8203, -5.9421, -6.1356, -6.2835, -6.2547, -6.4313, -6.2197, -6.0513, -5.9207, -6.0982, -6.3347, -6.3818, -5.7276, -6.5241, -6.3311, -5.6782, -5.4903, -5.506, -5.5894, -5.8109, -5.6784, -4.9975, -6.0351, -6.3011, -6.5154, -6.5914, -5.7747, -6.216, -6.3661, -4.4891, -5.2306, -5.7068, -5.4746, -5.1807, -4.737, -4.8561, -4.731, -4.4853, -5.2472, -5.1374, -5.2718, -4.8499, -5.1454, -4.5823, -4.7836, -5.1095, -4.654, -5.0326, -4.9147, -5.1947, -4.9756, -5.2162, -4.938, -5.0299, -5.25, -4.897, -5.2055, -5.4078, -5.1709, -5.182, -5.3017, -3.9468, -4.3512, -4.5835, -4.7471, -5.2509, -5.5499, -5.5763, -5.6422, -5.6577, -4.9274, -5.6964, -5.7104, -5.7174, -5.7635, -5.7912, -5.817, -5.7888, -5.8959, -5.9393, -5.9816, -5.9816, -6.0066, -6.0003, -6.0685, -6.1419, -6.2135, -5.0536, -4.4873, -5.0077, -5.6585, -4.9471, -5.8281, -5.4316, -5.8761, -3.9887, -4.4495, -4.8599, -5.4083, -5.2043, -3.9504, -5.389, -5.352, -5.054, -5.5476, -5.0761, -5.2628, -4.8785, -5.0013, -5.2945, -5.0005, -5.1752, -5.2395, -5.3234, -5.0617, -5.2379, -5.2714, -5.2925, -5.3351, -3.6562, -4.3835, -5.2179, -5.1108, -5.3461, -5.7139, -5.8374, -5.8311, -5.9596, -5.2822, -5.8541, -5.7448, -5.8451, -5.8893, -5.4092, -5.1741, -5.7904, -6.013, -5.4187, -5.68, -4.1206, -5.2902, -5.9491, -5.5594, -5.6311, -4.9952, -5.861, -5.3144, -6.0105, -5.2801, -5.521, -4.9376, -5.0439, -4.1735, -5.0912, -3.6238, -3.6899, -5.1605, -5.3635, -5.1917, -4.7771, -4.9934, -4.7744, -5.2296, -5.0457, -4.9988, -4.3461, -4.5095, -4.8212, -4.6452, -4.7345, -4.8934, -4.8578, -4.8642, -4.8395, -4.9962, -5.124, -3.6248, -3.6822, -4.5308, -4.5477, -5.1795, -5.187, -5.2148, -5.262, -5.5168, -5.5628, -5.5737, -5.0933, -5.6112, -5.6303, -5.4973, -5.3684, -5.4503, -5.6117, -4.714, -5.4932, -5.6274, -5.3571, -5.5862, -5.1137, -5.3812, -5.3664, -5.8157, -5.0701, -5.8073, -5.6739, -4.5075, -5.3108, -5.3082, -4.7467, -4.9475, -4.561, -4.8663, -5.3254, -4.2938, -4.8658, -4.9786, -4.4108, -4.97, -4.5635, -5.1483, -5.0528, -4.7942, -4.8663, -5.1179, -4.8611, -5.2171, -5.1193, -5.1502, -5.1512], \"loglift\": [30.0, 29.0, 28.0, 27.0, 26.0, 25.0, 24.0, 23.0, 22.0, 21.0, 20.0, 19.0, 18.0, 17.0, 16.0, 15.0, 14.0, 13.0, 12.0, 11.0, 10.0, 9.0, 8.0, 7.0, 6.0, 5.0, 4.0, 3.0, 2.0, 1.0, 1.3034, 1.303, 1.3029, 1.3029, 1.3027, 1.3024, 1.3022, 1.3021, 1.3021, 1.3019, 1.3016, 1.3014, 1.3014, 1.3013, 1.3013, 1.3012, 1.3011, 1.2991, 1.2959, 1.2957, 1.2911, 1.289, 1.2875, 1.2647, 1.2643, 1.2533, 1.2527, 1.2473, 1.245, 1.2441, 1.242, 1.2031, 1.149, 1.1771, 1.1114, 1.1606, 1.1467, 1.1869, 1.0705, 1.0021, 0.865, 1.0697, 0.8889, 0.7852, 0.8713, 0.8546, 0.848, 1.0966, 0.9528, 0.4139, 0.786, 0.6164, 0.7, 0.266, 0.9196, 0.5962, -0.1558, -0.0103, 0.8871, -0.5248, 1.359, 1.3585, 1.3583, 1.3579, 1.3576, 1.3575, 1.3414, 1.3409, 1.3311, 1.3304, 1.3283, 1.3031, 1.2973, 1.2971, 1.284, 1.284, 1.28, 1.2778, 1.2665, 1.2659, 1.2417, 1.2351, 1.2272, 1.2166, 1.2149, 1.2142, 1.209, 1.2069, 1.1997, 1.1991, 1.1423, 1.1583, 1.1688, 1.134, 1.0537, 0.9528, 0.9113, 0.8526, 0.6824, 0.8949, 0.8459, 0.8848, 0.6814, 0.8024, 0.438, 0.5222, 0.7206, 0.3926, 0.6394, 0.4332, 0.6908, 0.447, 0.6589, 0.3137, 0.4245, 0.6616, -0.0493, 0.4953, 0.8524, -0.3552, -0.4093, 0.0955, 1.6277, 1.6275, 1.6274, 1.6273, 1.6268, 1.6264, 1.6264, 1.6262, 1.6262, 1.6262, 1.6261, 1.6261, 1.6261, 1.626, 1.626, 1.6259, 1.6258, 1.6257, 1.6256, 1.6255, 1.6255, 1.6255, 1.6254, 1.6253, 1.625, 1.6245, 1.6243, 1.6243, 1.6239, 1.6231, 1.6216, 1.6226, 1.6171, 1.6147, 1.4343, 1.4548, 1.479, 1.5416, 1.5009, 1.2728, 1.5309, 1.5088, 1.3984, 1.5335, 1.2851, 1.1844, 0.7963, 0.8865, 1.1292, 0.4539, 0.6999, 0.646, 0.8663, -0.0152, 0.5711, 0.4005, 0.1302, 0.062, 1.8149, 1.8144, 1.8138, 1.8137, 1.8136, 1.8129, 1.8126, 1.8123, 1.8123, 1.8115, 1.8091, 1.8085, 1.8049, 1.8043, 1.802, 1.7976, 1.787, 1.7853, 1.7806, 1.7802, 1.7723, 1.7697, 1.7617, 1.7571, 1.7529, 1.7362, 1.7348, 1.7297, 1.7267, 1.7071, 1.7019, 1.6294, 1.6369, 1.4961, 1.5751, 1.1489, 1.1258, 1.564, 1.6319, 1.5627, 1.2653, 1.3284, 1.1425, 1.4672, 1.3322, 1.2873, 0.6743, 0.7962, 0.9175, 0.485, 0.6134, 0.8252, 0.6674, 0.5585, 0.0082, 0.2562, 0.9371, 2.1814, 2.1813, 2.1807, 2.1807, 2.1798, 2.1798, 2.1796, 2.1794, 2.179, 2.1789, 2.1789, 2.1788, 2.1786, 2.1786, 2.1781, 2.1772, 2.1756, 2.1743, 2.1498, 2.1307, 2.1113, 2.0952, 2.0814, 2.0707, 2.0605, 2.0156, 2.0064, 2.0048, 1.9987, 1.9823, 1.9483, 1.9714, 1.9353, 1.6496, 1.7454, 1.4518, 1.5581, 1.9102, 0.8364, 1.4269, 1.5478, 0.7484, 1.3681, 0.2092, 1.4841, 1.2278, 0.4575, 0.6069, 1.3418, -0.0134, 1.5035, 0.8853, 0.3567, -0.1046]}, \"token.table\": {\"Topic\": [1, 2, 3, 4, 5, 1, 2, 3, 4, 5, 1, 2, 3, 4, 5, 1, 2, 3, 4, 5, 1, 2, 3, 4, 5, 1, 2, 3, 4, 5, 1, 2, 3, 4, 5, 2, 4, 1, 2, 4, 3, 3, 2, 5, 1, 2, 4, 5, 1, 3, 4, 4, 5, 5, 1, 2, 3, 5, 1, 1, 2, 3, 1, 2, 3, 3, 3, 4, 1, 2, 3, 4, 3, 4, 2, 1, 1, 2, 3, 4, 5, 1, 2, 3, 4, 3, 5, 1, 3, 5, 1, 3, 4, 5, 5, 2, 1, 2, 4, 5, 3, 1, 2, 3, 4, 5, 1, 3, 4, 2, 3, 4, 5, 3, 4, 1, 2, 3, 4, 2, 4, 2, 3, 4, 5, 1, 2, 3, 4, 5, 1, 2, 4, 1, 3, 1, 2, 3, 2, 4, 1, 5, 3, 4, 4, 1, 2, 3, 5, 4, 3, 1, 2, 3, 4, 5, 1, 2, 3, 4, 5, 1, 2, 3, 5, 1, 3, 1, 2, 3, 4, 1, 2, 3, 4, 5, 1, 5, 2, 3, 5, 1, 2, 3, 4, 1, 2, 4, 1, 2, 3, 4, 5, 1, 3, 4, 1, 2, 3, 4, 5, 1, 2, 3, 4, 5, 1, 2, 3, 4, 1, 2, 3, 4, 5, 1, 2, 3, 4, 5, 1, 2, 3, 1, 2, 3, 4, 5, 4, 3, 1, 2, 3, 4, 5, 1, 2, 3, 1, 2, 3, 1, 2, 3, 4, 5, 1, 2, 3, 4, 5, 1, 2, 3, 4, 5, 2, 5, 1, 2, 3, 4, 5, 2, 3, 5, 1, 2, 3, 2, 3, 4, 1, 2, 3, 5, 2, 3, 5, 1, 2, 4, 1, 2, 3, 4, 5, 3, 1, 2, 4, 1, 3, 5, 3, 4, 1, 2, 4, 5, 1, 2, 4, 1, 2, 3, 4, 5, 1, 2, 3, 4, 2, 1, 4, 3, 4, 3, 4, 5, 1, 2, 3, 4, 5, 1, 2, 3, 1, 1, 2, 3, 4, 5, 5, 1, 1, 2, 3, 4, 5, 1, 2, 3, 4, 5, 2, 4, 3, 1, 2, 5, 1, 2, 4, 5, 1, 2, 3, 4, 5, 1, 2, 5, 1, 2, 3, 4, 3, 1, 2, 3, 4, 5, 2, 3, 4, 3, 1, 2, 4, 5, 1, 4, 5, 1, 2, 4, 5, 2, 4, 1, 2, 3, 5, 2, 3, 4, 5, 1, 2, 5, 4, 5, 2, 1, 2, 3, 4, 5, 1, 2, 3, 4, 5, 1, 4, 4, 5, 1, 2, 3, 4, 5, 1, 2, 4, 5, 1, 2, 3, 4, 5, 1, 1, 3, 5, 1, 2, 3, 4, 5, 1, 2, 3, 4, 1, 2, 3, 5, 2, 4, 1, 1, 1, 5, 1, 2, 3, 4, 5, 1, 2, 4, 5, 1, 2, 3, 4, 5, 1, 3, 4, 5, 3, 4, 3, 2, 3, 4, 5, 3, 5, 2, 3, 5, 2, 4, 1, 2, 4, 5, 1, 2, 3, 4, 5, 1, 2, 3, 4, 5, 1, 2, 3, 4, 5, 1, 2, 3, 4, 5, 3, 4, 3, 4, 1, 2, 3, 4, 5, 1, 2, 3, 5, 2, 3, 4, 4, 2, 3, 4, 3, 2, 4, 3, 4, 2, 4, 3, 4, 1, 3, 1, 2, 3, 5, 1, 2, 3, 5, 1, 2, 3, 4, 5, 3, 2, 2, 3, 5, 1, 3, 4, 5, 4, 5, 3, 2, 5, 1, 2, 3, 4, 5, 1, 3, 4, 5, 1, 2, 3, 4, 5, 1, 2, 3, 4, 3, 4, 3, 3, 1, 2, 1, 3, 4, 5, 3, 3, 4, 3, 3, 4, 1, 2, 3, 4, 5, 2, 3, 4, 5, 2, 4, 2, 3, 4, 5, 5, 5, 1, 1, 1, 2, 3, 4, 5, 2, 3, 4, 5, 5, 1, 2, 4, 5, 1, 2, 3, 4, 5, 3, 3, 1, 4, 5, 1, 2, 3, 5, 1, 5, 2, 3, 1, 2, 3, 5, 1, 2, 3, 5, 1, 2, 3, 4, 2, 3, 1, 3, 4, 5, 1, 4, 5, 3, 1, 2, 4, 1, 2, 3, 4, 5, 1, 2, 3, 1, 2, 3, 4, 5, 1, 2, 4, 1, 3, 5, 1, 2, 3, 4, 5, 1, 2, 5, 3, 4, 3, 4, 1, 2, 3, 4, 5, 1, 2, 3, 4, 5, 1, 2, 3, 4, 5, 1, 2, 4, 5, 1, 2, 3, 4, 5, 1, 2, 3, 5, 1, 2, 3, 4, 5, 1, 5, 3, 3, 1, 3, 4, 5, 1, 2, 3, 4, 5, 5, 1, 2, 3, 4, 5, 1, 5], \"Freq\": [0.35409533321481773, 0.0984468588657716, 0.02271850589210114, 0.26452697090457994, 0.2603488548784464, 0.4104848987758895, 0.24432218675341913, 0.06969383892885606, 0.1641939595103558, 0.11143139218568511, 0.595532027407491, 0.09199275220115714, 0.19528285993578973, 0.07423976493426716, 0.04303754488943024, 0.31431710355726267, 0.08678905098222925, 0.0011728250132733683, 0.0996901261282363, 0.49727780562790813, 0.09818298283625568, 0.25748649803415397, 0.014304805446341887, 0.5767437468593297, 0.05266769277971331, 0.1605444353987661, 0.17040723347787118, 0.016255352389636157, 0.5135960777489537, 0.1391750395607051, 0.21979137322747372, 0.2740608480984549, 0.17792634975557398, 0.31747642799523984, 0.01046625586797494, 0.9986674015517057, 0.9961426455104266, 0.014054157928070196, 0.8643307125763171, 0.12297388187061423, 0.9967376796123532, 0.9993488988235734, 0.18869677735529183, 0.8109468645864327, 0.6446603233499703, 0.01774294467935698, 0.09919919070731402, 0.23845442319075213, 0.8894556385206727, 0.10585860540533314, 0.003650296738114936, 0.9976327056560295, 0.9973691132329269, 0.9987480977832163, 0.4733886514100539, 0.04292057106117822, 0.0018935546056402155, 0.4822252395697082, 0.9986532731953628, 0.05679559244066603, 0.9387977338721855, 0.0033409172023921192, 0.9971800694930258, 0.0006375831646374846, 0.0019127494939124537, 0.9997450257600542, 0.9945322770012145, 0.004489987706551758, 0.0010986640446083763, 0.1658982707358648, 0.0021973280892167526, 0.8305900177239324, 0.9967641005883578, 0.0024550839915969407, 0.9968237565906064, 0.9987319756002716, 0.21395373809473636, 0.23956791800748647, 0.46708210429132585, 0.04068134456730903, 0.03917462810185313, 0.08771277349931135, 0.2650874932423632, 0.6412778329171874, 0.004872931861072852, 0.9878904924212203, 0.011068801035531881, 0.002634631160828923, 0.11065450875481475, 0.885236070038518, 0.008869118327469849, 0.022172795818674623, 0.0014781863879116414, 0.9682120840821252, 0.9951770789770716, 0.9970067535900998, 0.7395522375295326, 0.098197807472801, 0.006137362967050063, 0.15599130874585576, 0.9983680845400434, 0.0065323311213111085, 0.9711398933682515, 0.002177443707103703, 0.019596993363933325, 0.002177443707103703, 0.9398418855819736, 0.04873254221536159, 0.011602986241752761, 0.6014301288307847, 0.3936780547588604, 0.004041869145368177, 0.0008083738290736353, 0.03308072047379893, 0.9655435288290063, 0.0005599132368001656, 0.0027995661840008283, 0.03863401333921143, 0.9580115481650834, 0.0018603088506869954, 0.9971255439682295, 0.8581819576759941, 0.039915439891906705, 0.09812545640093731, 0.004989429986488338, 0.17249712422678262, 0.3511864529129882, 0.17013818919462148, 0.1279722254947413, 0.17839446180718543, 0.0037636132107005007, 0.022581679264203007, 0.9710122083607292, 0.9917767648971928, 0.0079026037043601, 0.28520351329531, 0.2384123118952982, 0.4762675856786915, 0.009734772072784411, 0.9897018273997484, 0.9605064198929716, 0.036942554611268136, 0.0058915649050252355, 0.9927286864967523, 0.9995837908634223, 0.825016968608888, 0.035166487836508754, 0.11052324748617037, 0.030142703859864645, 0.9991054696813932, 0.9981906495704247, 0.06536453081373127, 0.8671694421288347, 0.05882807773235814, 0.008715270775164168, 0.002178817693791042, 0.23851441595638712, 0.260590196910097, 0.04463147018902214, 0.40744213108042787, 0.048470736441841245, 0.9427537839798535, 0.01445941386472168, 0.011567531091777345, 0.02891882772944336, 0.9511035747586312, 0.046319979290193075, 0.049868355904120656, 0.21065081373292346, 0.12467088976030165, 0.614756456404246, 0.14068805400959045, 0.4326468917551564, 0.04513222971546596, 0.3610578377237277, 0.02054294593945347, 0.9985055014148657, 0.9959487887932362, 0.9393616345346029, 0.04861760770234543, 0.012154401925586358, 0.1351642678246087, 0.08348381247990537, 0.002650279761266837, 0.7765319700511832, 0.7919796192301898, 0.2070440320839436, 0.0007239301821116909, 0.11519829732197058, 0.25293539194606585, 0.011895476353899136, 0.34684704737158534, 0.27359595613968013, 0.34594126927616575, 0.06387884348744548, 0.589842308046412, 0.14600018818641736, 0.0017914133519805811, 0.04836816050347569, 0.7268659675661208, 0.07658292079716984, 0.07148517261456756, 0.9228085919335085, 0.003249326027934889, 0.0016246630139674445, 0.0016246630139674445, 0.0018370350939492064, 0.027555526409238095, 0.9093323715048571, 0.060622158100323814, 0.9988258999644555, 0.13710880141541945, 0.0740144857198282, 0.7862522417450603, 0.002426704449830433, 0.004421312063640427, 0.030949184445482992, 0.8872099541038457, 0.05452951545156527, 0.02358033100608228, 0.019504793243423194, 0.8753751207648329, 0.10454569178474832, 0.660316100801966, 0.17152221730118364, 0.0413253010596116, 0.04665759797052923, 0.08042881173967419, 0.9984240901437603, 0.9978664964529874, 0.637901222767457, 0.1820609528674913, 0.00045859182082491515, 0.08208793592765981, 0.09768005783570692, 0.07825425001413117, 0.9107175648196298, 0.01079368965712154, 0.20156898199929507, 0.7971137015426669, 0.0011452783068141765, 0.16309725093010463, 0.42091103568647403, 0.0942545019539415, 0.26428223096889475, 0.05729195216808208, 0.5951437149407289, 0.10209208000470611, 0.05606212485807561, 0.2103805001253048, 0.036292849250227896, 0.0987544983288015, 0.48614146222769095, 0.2931213064032153, 0.049826133247713476, 0.07227033741335018, 0.003717692231617328, 0.9926238258418265, 0.10648574752247003, 0.3957503848472286, 0.0837601306731624, 0.30062744574941236, 0.11330343257726232, 0.04964499976774798, 0.014184285647927994, 0.9326167813512656, 0.011352153939520533, 0.8656017378884406, 0.12203565484984573, 0.8599230510224851, 0.07166025425187376, 0.06788866192282778, 0.12761302573729735, 0.7357442348063933, 0.08665081994507844, 0.049627287786726745, 0.8824275990443669, 0.11030344988054586, 0.0062142788665096255, 0.08247815953274108, 0.08001612491982343, 0.8370917683919991, 0.1825006837694019, 0.39775790052305543, 0.021993672146568947, 0.3196101718320551, 0.0783817039266021, 0.9983271244004855, 0.002486998871391742, 0.05471397517061832, 0.9400855733860785, 0.9915853670319993, 0.0050591090154693845, 0.0025295545077346922, 0.08143561235051312, 0.9170358086427347, 0.2143332051657178, 0.01744572600186075, 0.12212008201302525, 0.646737985354695, 0.7910993176270567, 0.20506606735724395, 0.0036456189752398925, 0.08701452232426199, 0.3457063454504463, 0.17920288111104768, 0.37157552776306474, 0.01646220692621173, 0.07792080093192258, 0.9216149903327395, 0.08143205600967726, 0.9187660232396195, 0.9991235348513742, 0.9950633315851363, 0.0027039764445248265, 0.10202038861907751, 0.8981139129253217, 0.06351169443125242, 0.8933978349996173, 0.042341129620834944, 0.12742600193426004, 0.5078061736656788, 0.14504874688261515, 0.1556223938516282, 0.06371300096713002, 0.9450967150921696, 0.05097150822969004, 0.004247625685807504, 0.9980012693068679, 0.5466266779446873, 0.10640058030104155, 0.13463959687382981, 0.13968227840468486, 0.07261461404431271, 0.9963638336507974, 0.9986693362252878, 0.0361244909625058, 0.5118562488687359, 0.374583183211214, 0.023897740175196143, 0.053353094344623944, 0.0902820361941616, 0.392185165227438, 0.30912569192880934, 0.16178540885993759, 0.046585530676187384, 0.010168187158541642, 0.9897035500980531, 0.9995561782841214, 0.15415815049323892, 0.0038539537623309733, 0.8401619201881522, 0.062914799161297, 0.0009830437368952656, 0.14352438558670877, 0.7913502082006888, 0.2672192384277103, 0.10521757513091093, 0.030897224443204002, 0.12692913825316238, 0.4701388476087528, 0.17835996673201332, 0.817329950643092, 0.004596906359072508, 0.02335663949532542, 0.9680029479729314, 0.007785546498441807, 0.9982974193378217, 0.9971179604673834, 0.11252345840180934, 0.5273879849393214, 0.12251385891411952, 0.20559192633227782, 0.031548633196768976, 0.0011719953337639534, 0.9961960336993604, 0.002343990667527907, 0.9984523167469859, 0.3522756770088019, 0.037149071393655475, 0.10248019694801509, 0.5072769748926748, 0.9955192710052949, 0.9961851601401646, 0.999493734984183, 0.3200658779831097, 0.06183090824673711, 0.616490526342467, 0.9990948604001318, 0.051728607013014995, 0.9483577952386082, 0.016380519072294594, 0.8043696997079398, 0.05560755158752639, 0.1237160256249618, 0.8522756148072459, 0.1463244278434127, 0.002923341523430639, 0.9968594594898479, 0.3843978164159284, 0.027787793957777956, 0.5872487123077075, 0.23583456077355644, 0.7632463966853281, 0.997430115060722, 0.14431452517089358, 0.6217186362160213, 0.06851295639426261, 0.09256537725607819, 0.07288612382368362, 0.06509379365125535, 0.01084896560854256, 0.8238214529841673, 0.08994142456114315, 0.010149032343475297, 0.04316372459548103, 0.9549974066750179, 0.997030123856166, 0.9965816450069219, 0.02945340189256183, 0.6278603232707083, 0.13792812593589932, 0.10703797273150518, 0.0969807135486792, 0.6810053222504345, 0.08035226348982931, 0.1280862814045794, 0.11058380816917103, 0.06122120681430115, 0.4012612812343052, 0.22354486373907675, 0.2844162350858676, 0.02938617927086455, 0.9963002184123684, 0.9496410575763079, 0.048592744174226286, 0.9977174487583034, 0.2687640718088103, 0.37996850902729035, 0.19334680769087784, 0.05644285690354819, 0.10159714242638673, 0.9860232833319067, 0.00904608516818263, 0.0030153617227275434, 0.0030153617227275434, 0.17285796678012927, 0.6385867172763061, 0.04444919145774752, 0.1442129322851364, 0.07377132766236626, 0.9221415957795782, 0.9986182268005314, 0.9989416224738582, 0.15140683537929778, 0.8463890305629597, 0.11348808920836304, 0.07401397122284545, 0.07796138302139721, 0.3029638555388474, 0.4312547389917795, 0.1980163672224162, 0.4150093029703139, 0.0008250681967600674, 0.3853068478869515, 0.2322338867664767, 0.1798001274390702, 0.009914747218273226, 0.501838743817214, 0.0760766180786734, 0.4673749975535498, 0.00105502256784097, 0.00105502256784097, 0.530676351624008, 0.7101041374531821, 0.28976541629071917, 0.9946214242043409, 0.07078524302983649, 0.7009745119472877, 0.15532632276182742, 0.07279130254890068, 0.9983776682218535, 0.0010840148406317627, 0.983223604739731, 0.0036687447938049665, 0.014674979175219866, 0.94565117151678, 0.05449515225689919, 0.812887621547927, 0.042905623391260056, 0.03826717761923194, 0.1055246413136396, 0.24467874071285475, 0.1529242129455342, 0.011360084390239686, 0.1476810970731159, 0.4430432912193477, 0.13448193963721233, 0.3597226267143167, 0.0569726443783264, 0.4153703258745425, 0.03312363045251535, 0.2428124587833555, 0.28237179195592466, 0.2087095853587269, 0.14152692471220862, 0.12447548799989433, 0.1832776808212948, 0.3742777358344981, 0.347506838635882, 0.03191914665988842, 0.0633234683736496, 0.8614332268359844, 0.13817913689348785, 0.9167932584234363, 0.08217303370754876, 0.7040292937272852, 0.15372791540247682, 0.04901469766455783, 0.015595585620541128, 0.07797792810270564, 0.08815581315863205, 0.0587705421057547, 0.03265030116986372, 0.8195225593635794, 0.030218276137644988, 0.0255693105780073, 0.9437400086064512, 0.9987904668558071, 0.00328810006869919, 0.00328810006869919, 0.9930062207471553, 0.9974820651409556, 0.012554265068904264, 0.9876021854204687, 0.03220671893042937, 0.966201567912881, 0.016467463747817913, 0.9831075857447295, 0.9937032763686763, 0.0055022329810004225, 0.9994906863328091, 0.997631490869672, 0.6588559900818047, 0.11808914531750517, 0.1205323690137294, 0.10180098734267687, 0.9965244098964903, 0.9708799258642232, 0.012415344320514363, 0.014898413184617237, 0.0014957890951376495, 0.8256755805159824, 0.13462101856238845, 0.034403149188165935, 0.004487367285412948, 0.9994530644779805, 0.9988962312861351, 0.0031678633430638745, 0.0031678633430638745, 0.9947090897220565, 0.009483716019742044, 0.034773625405720834, 0.006322477346494697, 0.9515328406474518, 0.9245888241837815, 0.07510665518579739, 0.9974543826348099, 0.927518751040984, 0.07207071376331971, 0.09555362480990222, 0.5074092484803379, 0.23127877351947762, 0.14469548899785192, 0.021060798937692735, 0.11453069170475857, 0.008643825789038384, 0.09508208367942222, 0.7822662339079737, 0.12470413438080608, 0.3326944234924754, 0.43533898175537716, 0.08688771817868438, 0.020708989824971408, 0.9991985384394315, 0.21038197224370062, 0.6073470510926742, 0.18182333347758742, 0.9942881118325381, 0.0026585243631886044, 0.9988887829042611, 0.9978672508636625, 0.017803414878656096, 0.9821550541391946, 0.8803724868120776, 0.00317060919620196, 0.03276296169408692, 0.08349270883331827, 0.9990610882299639, 0.9963292376494544, 0.00348366866310998, 0.9978051288915778, 0.7944966095550132, 0.20474696843033016, 0.5026506714605943, 0.08058601540986102, 0.19649740743774333, 0.012879043558653588, 0.20716861495777059, 0.005144297780001748, 0.2160605067600734, 0.7780750392252644, 0.001286074445000437, 0.027156845593834376, 0.9716115868016298, 0.8890919711157969, 0.10533418934906026, 0.003570650486408823, 0.0017853252432044114, 0.9958318028750854, 0.9993330809238052, 0.9980514302207832, 0.9974600399013763, 0.648830820894943, 0.11497074821958322, 0.036281752511917655, 0.06832278070426052, 0.13240483708894626, 0.08130272363424701, 0.9068380713050628, 0.0031270278320864233, 0.007817569580216057, 0.9983210372355583, 0.010185506708936096, 0.09370666172221208, 0.002037101341787219, 0.8942874890445892, 0.2599424318953505, 0.2960984070491694, 0.23025647334800448, 0.05290190048821921, 0.16136982594967586, 0.9978673668289463, 0.9957040894507134, 0.9613085411608846, 0.027155608507369623, 0.01086224340294785, 0.31626198691410745, 0.11907454326585372, 0.02953048672993172, 0.5363117428694051, 0.08254944670352023, 0.9160325698713212, 0.9102345770479999, 0.08941112592580998, 0.8563534539371217, 0.13718626760016647, 0.004950019964954461, 0.0014142914185584173, 0.866016828776425, 0.09282066760733387, 0.03712826704293355, 0.0037128267042933548, 0.1141174289429133, 0.06594725793183431, 0.309665385071222, 0.5103744309507178, 0.9273467835819345, 0.07221142986908506, 0.08947525208725633, 0.8409541098074408, 0.06908848578889412, 0.0005662990638433945, 0.001825750503267256, 0.16066604428751852, 0.8380194809996705, 0.9992341640019426, 0.9437626353089857, 0.0027434960328749586, 0.054869920657499176, 0.4924971156648691, 0.14918167395264842, 0.003457853369763374, 0.28354397632059664, 0.07113298360656084, 0.984756283037525, 0.013995244332574645, 0.9986173995955907, 0.9040893159386502, 0.02872229009580267, 0.005744458019160534, 0.05037447801417699, 0.011047034652231797, 0.9835051228223313, 0.0014811824138890532, 0.014811824138890532, 0.003302770096987725, 0.08917479261866858, 0.9049590065746367, 0.23656848906422334, 0.5981628117271554, 0.0717059927992594, 0.014708921599848082, 0.07967332533251045, 0.8544342863622405, 0.14504543007515106, 0.000833594425719259, 0.9887805926366856, 0.01067029416514409, 0.16692443103130367, 0.8329360497925659, 0.6339074750770842, 0.16053815933474744, 0.07905655580532879, 0.10379204259104517, 0.022795448606444498, 0.08317420126165682, 0.6653936100932546, 0.1850854478624781, 0.0009140022116665585, 0.06535115813415894, 0.09582389219241799, 0.5725773311250655, 0.03903936348579992, 0.13900379422974216, 0.15379143191375727, 0.13274152515427312, 0.003792615004407803, 0.030340920035262425, 0.8343753009697167, 0.002501976943318114, 0.17263640908894987, 0.006254942358295285, 0.7055574980157081, 0.11133797397765607, 0.045099312405678986, 0.49609243646246887, 0.3954439709717463, 0.06324903569089127, 0.02981079316902309, 0.8525886846340603, 0.07452698292255773, 0.023848634535218474, 0.020867555218316163, 0.9992582548475358, 0.9997992356692946, 0.9983816293962811, 0.9975526258667855, 0.08451438833709214, 0.8804633292431391, 0.03279662830991635, 0.001261408781150629, 0.09697643991009479, 0.6019935782554613, 0.14423190851035286, 0.0636921533307826, 0.09327818584572678, 0.9972785759829493, 0.0958329182911952, 0.4974184806542989, 0.3131682865587272, 0.08499467157969098, 0.008556510561713858, 0.002223888617613668, 0.9963021006909233], \"Term\": [\"18\", \"18\", \"18\", \"18\", \"18\", \"19\", \"19\", \"19\", \"19\", \"19\", \"2019\", \"2019\", \"2019\", \"2019\", \"2019\", \"45\", \"45\", \"45\", \"45\", \"45\", \"50\", \"50\", \"50\", \"50\", \"50\", \"ab\", \"ab\", \"ab\", \"ab\", \"ab\", \"abend\", \"abend\", \"abend\", \"abend\", \"abend\", \"aids\", \"aimm\", \"aktion\", \"aktion\", \"aktion\", \"alben\", \"album\", \"anf\\u00e4nger\", \"anf\\u00e4nger\", \"anmeldung\", \"anmeldung\", \"anmeldung\", \"anmeldung\", \"artists\", \"artists\", \"artists\", \"artnight\", \"asanas\", \"atem\", \"ausstellung\", \"ausstellung\", \"ausstellung\", \"ausstellung\", \"austausch\", \"autor\", \"autor\", \"autor\", \"baden\", \"baden\", \"baden\", \"band\", \"bands\", \"bands\", \"bar\", \"bar\", \"bar\", \"bar\", \"bass\", \"bass\", \"begleitung\", \"benz\", \"bereits\", \"bereits\", \"bereits\", \"bereits\", \"bereits\", \"berlin\", \"berlin\", \"berlin\", \"berlin\", \"besetzung\", \"besetzung\", \"bewegen\", \"bewegen\", \"bewegen\", \"bewegung\", \"bewegung\", \"bewegung\", \"bewegung\", \"bewegungen\", \"bingo\", \"bitte\", \"bitte\", \"bitte\", \"bitte\", \"blues\", \"buch\", \"buch\", \"buch\", \"buch\", \"buch\", \"business\", \"business\", \"business\", \"b\\u00fchne\", \"b\\u00fchne\", \"b\\u00fchne\", \"b\\u00fchne\", \"class\", \"class\", \"club\", \"club\", \"club\", \"club\", \"cocktails\", \"cocktails\", \"comedy\", \"comedy\", \"comedy\", \"comedy\", \"dabei\", \"dabei\", \"dabei\", \"dabei\", \"dabei\", \"date\", \"date\", \"date\", \"design\", \"design\", \"deutschland\", \"deutschland\", \"deutschland\", \"disko\", \"disko\", \"diskutieren\", \"diskutieren\", \"div\", \"div\", \"dj\", \"dr\", \"dr\", \"dr\", \"dr\", \"drinks\", \"drums\", \"eigentlich\", \"eigentlich\", \"eigentlich\", \"eigentlich\", \"eigentlich\", \"einfach\", \"einfach\", \"einfach\", \"einfach\", \"einfach\", \"einf\\u00fchrung\", \"einf\\u00fchrung\", \"einf\\u00fchrung\", \"einf\\u00fchrung\", \"einladung\", \"einladung\", \"einlass\", \"einlass\", \"einlass\", \"einlass\", \"eintritt\", \"eintritt\", \"eintritt\", \"eintritt\", \"eintritt\", \"entrance\", \"entspannung\", \"erz\\u00e4hlt\", \"erz\\u00e4hlt\", \"erz\\u00e4hlt\", \"essen\", \"essen\", \"essen\", \"essen\", \"eur\", \"eur\", \"eur\", \"euro\", \"euro\", \"euro\", \"euro\", \"euro\", \"event\", \"event\", \"event\", \"facebook\", \"facebook\", \"facebook\", \"facebook\", \"facebook\", \"familie\", \"familie\", \"familie\", \"familie\", \"familie\", \"fans\", \"fans\", \"fans\", \"fans\", \"fees\", \"feiern\", \"feiern\", \"feiern\", \"feiern\", \"festival\", \"festival\", \"festival\", \"festival\", \"festival\", \"film\", \"film\", \"film\", \"findet\", \"findet\", \"findet\", \"findet\", \"findet\", \"floor\", \"folk\", \"fragen\", \"fragen\", \"fragen\", \"fragen\", \"fragen\", \"frau\", \"frau\", \"frau\", \"frauen\", \"frauen\", \"frauen\", \"frei\", \"frei\", \"frei\", \"frei\", \"frei\", \"freuen\", \"freuen\", \"freuen\", \"freuen\", \"freuen\", \"ganz\", \"ganz\", \"ganz\", \"ganz\", \"ganz\", \"geburt\", \"geburt\", \"geht\", \"geht\", \"geht\", \"geht\", \"geht\", \"geist\", \"geist\", \"geist\", \"geld\", \"geld\", \"geld\", \"genug\", \"genug\", \"genug\", \"geschichte\", \"geschichte\", \"geschichte\", \"geschichte\", \"geschichten\", \"geschichten\", \"geschichten\", \"getr\\u00e4nke\", \"getr\\u00e4nke\", \"getr\\u00e4nke\", \"gibt\", \"gibt\", \"gibt\", \"gibt\", \"gibt\", \"gitarre\", \"gratis\", \"gratis\", \"gratis\", \"halle\", \"halle\", \"halle\", \"happy\", \"happy\", \"hast\", \"hast\", \"hast\", \"hast\", \"herzlich\", \"herzlich\", \"herzlich\", \"heute\", \"heute\", \"heute\", \"heute\", \"heute\", \"hilfe\", \"hilfe\", \"hip\", \"hip\", \"hiv\", \"hohenheim\", \"hohenheim\", \"hop\", \"hop\", \"house\", \"house\", \"house\", \"immer\", \"immer\", \"immer\", \"immer\", \"immer\", \"informationen\", \"informationen\", \"informationen\", \"informieren\", \"infos\", \"infos\", \"infos\", \"infos\", \"infos\", \"inneren\", \"interessierten\", \"jahre\", \"jahre\", \"jahre\", \"jahre\", \"jahre\", \"jahren\", \"jahren\", \"jahren\", \"jahren\", \"jahren\", \"jahrgangschampagner\", \"jahrgangschampagner\", \"jazz\", \"jederzeit\", \"jederzeit\", \"jederzeit\", \"kannst\", \"kannst\", \"kannst\", \"kannst\", \"kennen\", \"kennen\", \"kennen\", \"kennen\", \"kennen\", \"kinder\", \"kinder\", \"kinder\", \"kino\", \"kino\", \"kino\", \"kizomba\", \"klavier\", \"kommt\", \"kommt\", \"kommt\", \"kommt\", \"kommt\", \"konzert\", \"konzert\", \"konzert\", \"konzerte\", \"kosten\", \"kosten\", \"kosten\", \"kosten\", \"kunden\", \"kunstwerk\", \"kurs\", \"k\\u00f6nnt\", \"k\\u00f6nnt\", \"k\\u00f6nnt\", \"k\\u00f6rper\", \"ladies\", \"ladies\", \"leben\", \"leben\", \"leben\", \"leben\", \"lebt\", \"lebt\", \"lerne\", \"lerne\", \"lernen\", \"lernen\", \"lernen\", \"lernst\", \"lernst\", \"lesung\", \"liebe\", \"liebe\", \"liebe\", \"liebe\", \"liebe\", \"live\", \"live\", \"live\", \"live\", \"live\", \"location\", \"location\", \"lunchpaket\", \"l\\u00f6sen\", \"macht\", \"macht\", \"macht\", \"macht\", \"macht\", \"mail\", \"mail\", \"mail\", \"mail\", \"mal\", \"mal\", \"mal\", \"mal\", \"mal\", \"marketing\", \"media\", \"media\", \"meditation\", \"mehr\", \"mehr\", \"mehr\", \"mehr\", \"mehr\", \"melden\", \"melden\", \"melden\", \"melden\", \"menschen\", \"menschen\", \"menschen\", \"menschen\", \"men\\u00fc\", \"men\\u00fc\", \"mercedes\", \"messe\", \"methoden\", \"methoden\", \"mi\", \"mi\", \"mi\", \"mi\", \"mi\", \"minuten\", \"minuten\", \"minuten\", \"minuten\", \"mittwoch\", \"mittwoch\", \"mittwoch\", \"mittwoch\", \"mittwoch\", \"museum\", \"museum\", \"museum\", \"museum\", \"music\", \"music\", \"musical\", \"musik\", \"musik\", \"musik\", \"musik\", \"musiker\", \"musiker\", \"mutter\", \"mutter\", \"mutter\", \"m\\u00e4nner\", \"m\\u00e4nner\", \"m\\u00f6chten\", \"m\\u00f6chten\", \"m\\u00f6chten\", \"m\\u00f6chten\", \"m\\u00f6glich\", \"m\\u00f6glich\", \"m\\u00f6glich\", \"m\\u00f6glich\", \"m\\u00f6glich\", \"nat\\u00fcrlich\", \"nat\\u00fcrlich\", \"nat\\u00fcrlich\", \"nat\\u00fcrlich\", \"nat\\u00fcrlich\", \"neue\", \"neue\", \"neue\", \"neue\", \"neue\", \"neuen\", \"neuen\", \"neuen\", \"neuen\", \"neuen\", \"new\", \"new\", \"one\", \"one\", \"ort\", \"ort\", \"ort\", \"ort\", \"ort\", \"ost\", \"ost\", \"ost\", \"ost\", \"park\", \"park\", \"park\", \"party\", \"perkins\", \"perkins\", \"perkins\", \"piano\", \"ping\", \"ping\", \"pm\", \"pm\", \"pong\", \"pong\", \"pop\", \"pop\", \"prof\", \"punk\", \"rahmen\", \"rahmen\", \"rahmen\", \"rahmen\", \"referent\", \"regie\", \"regie\", \"regie\", \"reise\", \"reise\", \"reise\", \"reise\", \"reise\", \"rock\", \"roman\", \"ruhe\", \"ruhe\", \"ruhe\", \"sa\", \"sa\", \"sa\", \"sa\", \"salsa\", \"salsa\", \"schlagzeug\", \"schnelltest\", \"schnelltest\", \"schon\", \"schon\", \"schon\", \"schon\", \"schon\", \"schritt\", \"schritt\", \"schritt\", \"schritt\", \"seit\", \"seit\", \"seit\", \"seit\", \"seit\", \"seminar\", \"show\", \"show\", \"show\", \"shows\", \"shows\", \"singer\", \"single\", \"slam\", \"slam\", \"social\", \"social\", \"social\", \"social\", \"song\", \"songs\", \"songs\", \"songwriter\", \"sound\", \"sound\", \"sowie\", \"sowie\", \"sowie\", \"sowie\", \"sowie\", \"special\", \"special\", \"special\", \"special\", \"specials\", \"specials\", \"spiel\", \"spiel\", \"spiel\", \"spiel\", \"sp\\u00fcren\", \"stadtpalais\", \"stammtisch\", \"startup\", \"statt\", \"statt\", \"statt\", \"statt\", \"statt\", \"stimme\", \"stimme\", \"stimme\", \"stimme\", \"stress\", \"stunde\", \"stunde\", \"stunde\", \"stunde\", \"stuttgarter\", \"stuttgarter\", \"stuttgarter\", \"stuttgarter\", \"stuttgarter\", \"s\\u00e4nger\", \"s\\u00e4ngerin\", \"teilnehmerzahl\", \"teilnehmerzahl\", \"teilnehmerzahl\", \"termine\", \"termine\", \"termine\", \"termine\", \"terminen\", \"terminen\", \"theater\", \"theater\", \"thema\", \"thema\", \"thema\", \"thema\", \"themen\", \"themen\", \"themen\", \"themen\", \"tickets\", \"tickets\", \"tickets\", \"tickets\", \"tod\", \"tod\", \"tour\", \"tour\", \"tour\", \"tour\", \"training\", \"training\", \"training\", \"trio\", \"uni\", \"uni\", \"uni\", \"unserer\", \"unserer\", \"unserer\", \"unserer\", \"unserer\", \"unternehmen\", \"unternehmen\", \"uso\", \"veranstaltung\", \"veranstaltung\", \"veranstaltung\", \"veranstaltung\", \"veranstaltung\", \"veranstaltungen\", \"veranstaltungen\", \"veranstaltungen\", \"verbindung\", \"verbindung\", \"verbindung\", \"viele\", \"viele\", \"viele\", \"viele\", \"viele\", \"vortrag\", \"vortrag\", \"vortrag\", \"watch\", \"watch\", \"wednesday\", \"wednesday\", \"weitere\", \"weitere\", \"weitere\", \"weitere\", \"weitere\", \"welt\", \"welt\", \"welt\", \"welt\", \"welt\", \"wer\", \"wer\", \"wer\", \"wer\", \"wer\", \"willst\", \"willst\", \"willst\", \"willst\", \"woche\", \"woche\", \"woche\", \"woche\", \"woche\", \"wurde\", \"wurde\", \"wurde\", \"wurde\", \"w\\u00e4re\", \"w\\u00e4re\", \"w\\u00e4re\", \"w\\u00e4re\", \"w\\u00e4re\", \"w\\u00fcrttemberg\", \"yoga\", \"york\", \"youtu\", \"youtube\", \"youtube\", \"youtube\", \"youtube\", \"zeit\", \"zeit\", \"zeit\", \"zeit\", \"zeit\", \"zouk\", \"zwei\", \"zwei\", \"zwei\", \"zwei\", \"zwei\", \"\\u00fcbungen\", \"\\u00fcbungen\"]}, \"R\": 30, \"lambda.step\": 0.01, \"plot.opts\": {\"xlab\": \"PC1\", \"ylab\": \"PC2\"}, \"topic.order\": [3, 4, 2, 5, 1]};\n",
       "\n",
       "function LDAvis_load_lib(url, callback){\n",
       "  var s = document.createElement('script');\n",
       "  s.src = url;\n",
       "  s.async = true;\n",
       "  s.onreadystatechange = s.onload = callback;\n",
       "  s.onerror = function(){console.warn(\"failed to load library \" + url);};\n",
       "  document.getElementsByTagName(\"head\")[0].appendChild(s);\n",
       "}\n",
       "\n",
       "if(typeof(LDAvis) !== \"undefined\"){\n",
       "   // already loaded: just create the visualization\n",
       "   !function(LDAvis){\n",
       "       new LDAvis(\"#\" + \"ldavis_el136351405414755611847821909932\", ldavis_el136351405414755611847821909932_data);\n",
       "   }(LDAvis);\n",
       "}else if(typeof define === \"function\" && define.amd){\n",
       "   // require.js is available: use it to load d3/LDAvis\n",
       "   require.config({paths: {d3: \"https://d3js.org/d3.v5\"}});\n",
       "   require([\"d3\"], function(d3){\n",
       "      window.d3 = d3;\n",
       "      LDAvis_load_lib(\"https://cdn.jsdelivr.net/gh/bmabey/pyLDAvis@3.4.0/pyLDAvis/js/ldavis.v3.0.0.js\", function(){\n",
       "        new LDAvis(\"#\" + \"ldavis_el136351405414755611847821909932\", ldavis_el136351405414755611847821909932_data);\n",
       "      });\n",
       "    });\n",
       "}else{\n",
       "    // require.js not available: dynamically load d3 & LDAvis\n",
       "    LDAvis_load_lib(\"https://d3js.org/d3.v5.js\", function(){\n",
       "         LDAvis_load_lib(\"https://cdn.jsdelivr.net/gh/bmabey/pyLDAvis@3.4.0/pyLDAvis/js/ldavis.v3.0.0.js\", function(){\n",
       "                 new LDAvis(\"#\" + \"ldavis_el136351405414755611847821909932\", ldavis_el136351405414755611847821909932_data);\n",
       "            })\n",
       "         });\n",
       "}\n",
       "</script>"
      ],
      "text/plain": [
       "PreparedData(topic_coordinates=                x           y  topics  cluster       Freq\n",
       "topic                                                    \n",
       "2       -5.410001  -75.670937       1        1  27.142316\n",
       "3      103.910019   41.236500       2        1  25.661850\n",
       "1       46.844753  184.831421       3        1  19.631482\n",
       "4     -113.035568  196.712036       4        1  16.280139\n",
       "0     -107.118210   41.419109       5        1  11.284213, topic_info=            Term         Freq        Total Category  logprob  loglift\n",
       "213           dj  2723.000000  2723.000000  Default  30.0000  30.0000\n",
       "506         kurs  1947.000000  1947.000000  Default  29.0000  29.0000\n",
       "972         yoga  1839.000000  1839.000000  Default  28.0000  28.0000\n",
       "93          band  2455.000000  2455.000000  Default  27.0000  27.0000\n",
       "34            ab  5475.000000  5475.000000  Default  26.0000  26.0000\n",
       "..           ...          ...          ...      ...      ...      ...\n",
       "5             19   565.527900  5079.358598   Topic5  -4.8611  -0.0134\n",
       "497       kosten   396.168826   780.638625   Topic5  -5.2171   1.5035\n",
       "279         euro   436.836125  1597.245830   Topic5  -5.1193   0.8853\n",
       "835  stuttgarter   423.552140  2627.504848   Topic5  -5.1502   0.3567\n",
       "572         mehr   423.157302  4163.502928   Topic5  -5.1512  -0.1046\n",
       "\n",
       "[321 rows x 6 columns], token_table=      Topic      Freq     Term\n",
       "term                          \n",
       "4         1  0.354095       18\n",
       "4         2  0.098447       18\n",
       "4         3  0.022719       18\n",
       "4         4  0.264527       18\n",
       "4         5  0.260349       18\n",
       "...     ...       ...      ...\n",
       "994       3  0.313168     zwei\n",
       "994       4  0.084995     zwei\n",
       "994       5  0.008557     zwei\n",
       "999       1  0.002224  übungen\n",
       "999       5  0.996302  übungen\n",
       "\n",
       "[765 rows x 3 columns], R=30, lambda_step=0.01, plot_opts={'xlab': 'PC1', 'ylab': 'PC2'}, topic_order=[3, 4, 2, 5, 1])"
      ]
     },
     "execution_count": 8,
     "metadata": {},
     "output_type": "execute_result"
    }
   ],
   "source": [
    "pyLDAvis.enable_notebook()\n",
    "panel = pyLDAvis.lda_model.prepare(lda, X, vectorizer, mds='tsne')\n",
    "panel"
   ]
  },
  {
   "cell_type": "code",
   "execution_count": 9,
   "metadata": {},
   "outputs": [
    {
     "name": "stdout",
     "output_type": "stream",
     "text": [
      "Topic #0: kurs yoga 18 anmeldung kannst körper stadtpalais ausstellung ab bewegung lernen dabei 19 kennen sowie termine hast möglich museum minuten\n",
      "Topic #1: band musik live album tour songs jazz rock new seit musiker pop jahren deutschland konzert bass sound mehr music wurde\n",
      "Topic #2: anmeldung 19 veranstaltung freuen württemberg baden findet dr bitte fragen statt sowie 18 informationen weitere mittwoch thema mehr 2019 eur\n",
      "Topic #3: immer leben gibt mehr zeit welt eintritt schon menschen 19 geht dabei mal film jahren ganz kommt viele wer mittwoch\n",
      "Topic #4: ab dj mittwoch club facebook gibt party eintritt 18 geht tickets 50 einfach 19 abend mal heute bar einlass salsa\n"
     ]
    }
   ],
   "source": [
    "def print_top_words(model, feature_names, n_top_words):\n",
    "    for topic_idx, topic in enumerate(model.components_):\n",
    "        message = f\"Topic #{topic_idx}: \"\n",
    "        message += \" \".join([feature_names[i]\n",
    "                             for i in topic.argsort()[:-n_top_words - 1:-1]])\n",
    "        print(message)\n",
    "\n",
    "n_top_words = 20\n",
    "tf_feature_names = vectorizer.get_feature_names_out()\n",
    "print_top_words(lda, tf_feature_names, n_top_words)"
   ]
  },
  {
   "cell_type": "markdown",
   "metadata": {},
   "source": [
    "## Assign labels for each topic"
   ]
  },
  {
   "cell_type": "code",
   "execution_count": 10,
   "metadata": {},
   "outputs": [],
   "source": [
    "# Map the topic labels to your predefined categories\n",
    "# NOTE: The topic number of the plot does not correspond with the actual number, therefore the printed topic words above.\n",
    "topic_labels_mapping = {\n",
    "    0: 'Körperbewusst',\n",
    "    1: 'Musikalisch',\n",
    "    2: 'Informativ',\n",
    "    3: 'Gesellig',\n",
    "    4: 'Energetisch'\n",
    "}\n",
    "\n",
    "# Map the predicted labels to category names\n",
    "predicted_category_labels = [topic_labels_mapping[label] for label in predicted_labels]\n",
    "\n",
    "# Add the predicted category labels to the DataFrame\n",
    "df['stimmung'] = predicted_category_labels"
   ]
  },
  {
   "cell_type": "markdown",
   "metadata": {},
   "source": [
    "## Check Output"
   ]
  },
  {
   "cell_type": "code",
   "execution_count": 11,
   "metadata": {},
   "outputs": [
    {
     "name": "stdout",
     "output_type": "stream",
     "text": [
      "                                             description       stimmung\n",
      "0      Freidrich Achleitner liest Prosa, Künstler Mic...    Musikalisch\n",
      "1      Stuttgart ist ungewöhnlich reich an besonders ...       Gesellig\n",
      "2                                                    NaN  Körperbewusst\n",
      "3                                                    NaN  Körperbewusst\n",
      "4      <div class=\"bbcode\">Charlie Musselwhite – die ...    Musikalisch\n",
      "...                                                  ...            ...\n",
      "29544  OneRepublic at Porsche Arena on Nov 2, 2022\\n\\...     Informativ\n",
      "29545                                                NaN  Körperbewusst\n",
      "29546  KUNST-COMPUTER-CLUB ➤ MITTWOCHS, 16-17:30 Uhr ...     Informativ\n",
      "29547  Provinz\\n\"Zorn & Liebe\" Tour 2022\\nPräsentiert...    Musikalisch\n",
      "29548  Duman at LKA Longhorn at 2022-12-21\\n\\nLine-Up...     Informativ\n",
      "\n",
      "[29549 rows x 2 columns]\n"
     ]
    }
   ],
   "source": [
    "# Print or further analyze the predicted category labels\n",
    "print(df[['description', 'stimmung']])"
   ]
  },
  {
   "cell_type": "code",
   "execution_count": 13,
   "metadata": {},
   "outputs": [
    {
     "data": {
      "text/plain": [
       "(29549, 40)"
      ]
     },
     "execution_count": 13,
     "metadata": {},
     "output_type": "execute_result"
    }
   ],
   "source": [
    "df.shape"
   ]
  },
  {
   "cell_type": "markdown",
   "metadata": {},
   "source": [
    "## Save dataframe with Flair"
   ]
  },
  {
   "cell_type": "code",
   "execution_count": 14,
   "metadata": {},
   "outputs": [
    {
     "ename": "",
     "evalue": "",
     "output_type": "error",
     "traceback": [
      "\u001b[1;31mThe Kernel crashed while executing code in the the current cell or a previous cell. Please review the code in the cell(s) to identify a possible cause of the failure. Click <a href='https://aka.ms/vscodeJupyterKernelCrash'>here</a> for more info. View Jupyter <a href='command:jupyter.viewOutput'>log</a> for further details."
     ]
    }
   ],
   "source": [
    "df.to_csv('2000_events_sample.csv', index=False)"
   ]
  }
 ],
 "metadata": {
  "kernelspec": {
   "display_name": "Python 3",
   "language": "python",
   "name": "python3"
  },
  "language_info": {
   "codemirror_mode": {
    "name": "ipython",
    "version": 3
   },
   "file_extension": ".py",
   "mimetype": "text/x-python",
   "name": "python",
   "nbconvert_exporter": "python",
   "pygments_lexer": "ipython3",
   "version": "3.10.13"
  }
 },
 "nbformat": 4,
 "nbformat_minor": 2
}
