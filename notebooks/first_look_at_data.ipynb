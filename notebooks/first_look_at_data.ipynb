{
 "cells": [
  {
   "cell_type": "code",
   "execution_count": 4,
   "metadata": {},
   "outputs": [],
   "source": [
    "import json\n",
    "import pandas as pd\n",
    "\n",
    "pd.set_option('display.max_columns', None)"
   ]
  },
  {
   "cell_type": "markdown",
   "metadata": {},
   "source": [
    "# Try reading in the data and store in pd.dataframe"
   ]
  },
  {
   "cell_type": "code",
   "execution_count": 13,
   "metadata": {},
   "outputs": [
    {
     "name": "stdout",
     "output_type": "stream",
     "text": [
      "Index(['id', 'hostname', 'eventData.name', 'eventData.description',\n",
      "       'eventData.sourceId', 'eventData.url', 'eventData.startDate',\n",
      "       'eventData.endDate', 'eventData.doorTime', 'eventData.cancelled',\n",
      "       'eventData.location.sourceId', 'eventData.location.url',\n",
      "       'eventData.location.name', 'eventData.location.description',\n",
      "       'eventData.location.location.name',\n",
      "       'eventData.location.location.address.country.shortName',\n",
      "       'eventData.location.location.address.country.longName',\n",
      "       'eventData.location.location.address.region',\n",
      "       'eventData.location.location.address.county',\n",
      "       'eventData.location.location.address.city',\n",
      "       'eventData.location.location.address.district',\n",
      "       'eventData.location.location.address.postalCode',\n",
      "       'eventData.location.location.address.street',\n",
      "       'eventData.location.location.address.houseNumber',\n",
      "       'eventData.location.location.address.coordinate',\n",
      "       'eventData.location.location.address.addressDescription',\n",
      "       'eventData.location.location.telephoneNumbers',\n",
      "       'eventData.location.location.emailAddresses',\n",
      "       'eventData.location.location.emailAddressesAsString',\n",
      "       'eventData.location.location.telephoneNumbersAsString',\n",
      "       'eventData.location.location.websites',\n",
      "       'eventData.location.location.websitesAsString',\n",
      "       'eventData.location.location.coordinate.lat',\n",
      "       'eventData.location.location.coordinate.lon',\n",
      "       'eventData.location.location.score',\n",
      "       'eventData.location.location.elasticsearchTimestamp',\n",
      "       'eventData.location.location.elasticsearchIndexTimestamp',\n",
      "       'eventData.location.category', 'eventData.location.phone',\n",
      "       'eventData.location.email', 'eventData.location.website',\n",
      "       'eventData.location.facebook', 'eventData.location.twitter',\n",
      "       'eventData.location.wikipedia', 'eventData.organizer',\n",
      "       'eventData.price', 'eventData.eventTyp', 'eventData.webpageEvent',\n",
      "       'eventData.facebookEvent', 'eventData.artists', 'eventData.sourceDate',\n",
      "       'eventData.ticket'],\n",
      "      dtype='object')\n"
     ]
    }
   ],
   "source": [
    "json_data = open('example.json').read()\n",
    "data = json.loads(json_data)\n",
    "\n",
    "df = pd.json_normalize(data)\n",
    "print(df.columns)"
   ]
  },
  {
   "cell_type": "code",
   "execution_count": 15,
   "metadata": {},
   "outputs": [
    {
     "data": {
      "text/plain": [
       "id                                                          object\n",
       "hostname                                                    object\n",
       "eventData.name                                              object\n",
       "eventData.description                                       object\n",
       "eventData.sourceId                                          object\n",
       "eventData.url                                               object\n",
       "eventData.startDate                                         object\n",
       "eventData.endDate                                           object\n",
       "eventData.doorTime                                          object\n",
       "eventData.cancelled                                           bool\n",
       "eventData.location.sourceId                                 object\n",
       "eventData.location.url                                      object\n",
       "eventData.location.name                                     object\n",
       "eventData.location.description                              object\n",
       "eventData.location.location.name                            object\n",
       "eventData.location.location.address.country.shortName       object\n",
       "eventData.location.location.address.country.longName        object\n",
       "eventData.location.location.address.region                  object\n",
       "eventData.location.location.address.county                  object\n",
       "eventData.location.location.address.city                    object\n",
       "eventData.location.location.address.district                object\n",
       "eventData.location.location.address.postalCode              object\n",
       "eventData.location.location.address.street                  object\n",
       "eventData.location.location.address.houseNumber             object\n",
       "eventData.location.location.address.coordinate              object\n",
       "eventData.location.location.address.addressDescription      object\n",
       "eventData.location.location.telephoneNumbers                object\n",
       "eventData.location.location.emailAddresses                  object\n",
       "eventData.location.location.emailAddressesAsString          object\n",
       "eventData.location.location.telephoneNumbersAsString        object\n",
       "eventData.location.location.websites                        object\n",
       "eventData.location.location.websitesAsString                object\n",
       "eventData.location.location.coordinate.lat                 float64\n",
       "eventData.location.location.coordinate.lon                 float64\n",
       "eventData.location.location.score                           object\n",
       "eventData.location.location.elasticsearchTimestamp          object\n",
       "eventData.location.location.elasticsearchIndexTimestamp     object\n",
       "eventData.location.category                                 object\n",
       "eventData.location.phone                                    object\n",
       "eventData.location.email                                    object\n",
       "eventData.location.website                                  object\n",
       "eventData.location.facebook                                 object\n",
       "eventData.location.twitter                                  object\n",
       "eventData.location.wikipedia                                object\n",
       "eventData.organizer                                         object\n",
       "eventData.price                                             object\n",
       "eventData.eventTyp                                          object\n",
       "eventData.webpageEvent                                      object\n",
       "eventData.facebookEvent                                     object\n",
       "eventData.artists                                           object\n",
       "eventData.sourceDate                                        object\n",
       "eventData.ticket                                            object\n",
       "dtype: object"
      ]
     },
     "execution_count": 15,
     "metadata": {},
     "output_type": "execute_result"
    }
   ],
   "source": [
    "df.dtypes"
   ]
  },
  {
   "cell_type": "code",
   "execution_count": 16,
   "metadata": {},
   "outputs": [
    {
     "data": {
      "text/plain": [
       "(1, 52)"
      ]
     },
     "execution_count": 16,
     "metadata": {},
     "output_type": "execute_result"
    }
   ],
   "source": [
    "# view dimension of dataframe\n",
    "df.shape"
   ]
  },
  {
   "cell_type": "markdown",
   "metadata": {},
   "source": [
    "We have 52 columns in our dataframe. "
   ]
  }
 ],
 "metadata": {
  "kernelspec": {
   "display_name": "Python 3",
   "language": "python",
   "name": "python3"
  },
  "language_info": {
   "codemirror_mode": {
    "name": "ipython",
    "version": 3
   },
   "file_extension": ".py",
   "mimetype": "text/x-python",
   "name": "python",
   "nbconvert_exporter": "python",
   "pygments_lexer": "ipython3",
   "version": "3.10.13"
  }
 },
 "nbformat": 4,
 "nbformat_minor": 2
}
